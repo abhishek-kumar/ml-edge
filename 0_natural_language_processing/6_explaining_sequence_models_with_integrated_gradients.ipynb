{
  "nbformat": 4,
  "nbformat_minor": 0,
  "metadata": {
    "colab": {
      "provenance": []
    },
    "kernelspec": {
      "name": "python3",
      "display_name": "Python 3"
    },
    "language_info": {
      "name": "python"
    },
    "accelerator": "GPU"
  },
  "cells": [
    {
      "cell_type": "markdown",
      "metadata": {
        "id": "HZhnr-DZ5XKG"
      },
      "source": [
        "### In this notebook, we'll use integrated gradients to explain a sequence model for text classification.\n",
        "Based entirely on the paper https://arxiv.org/pdf/1703.01365.pdf\n",
        "\n",
        "---\n",
        "\n"
      ]
    },
    {
      "cell_type": "code",
      "metadata": {
        "id": "aCYhXl6S5YAG",
        "cellView": "form"
      },
      "source": [
        "#@title Library imports.\n",
        "import os\n",
        "import tensorflow_datasets as tfds\n",
        "import tensorflow as tf\n",
        "\n",
        "from tensorflow import keras\n",
        "from tensorflow.keras import layers\n",
        "from tensorflow.keras.layers import TextVectorization\n",
        "\n",
        "import seaborn as sns\n",
        "import matplotlib.pyplot as plt\n",
        "import matplotlib as mpl\n",
        "from matplotlib.colors import Normalize, rgb2hex\n",
        "import pandas as pd\n",
        "from IPython.display import HTML\n",
        "\n",
        "\n",
        "pd.set_option('display.max_colwidth', 150)\n"
      ],
      "execution_count": 53,
      "outputs": []
    },
    {
      "cell_type": "code",
      "metadata": {
        "id": "dhRBWj1r5i_b",
        "colab": {
          "base_uri": "https://localhost:8080/",
          "height": 224
        },
        "outputId": "83f89796-50bf-41c9-a1b8-feba0aab9f46",
        "cellView": "form"
      },
      "source": [
        "#@title Download dataset and build training set.\n",
        "\n",
        "def convert_ds_to_tuple(sample):\n",
        "  \"\"\"See output DataFrame to get a sense of the columns.\"\"\"\n",
        "  return sample['description'], sample['label']\n",
        "\n",
        "\n",
        "# download the ag_news_subset dataset; https://www.tensorflow.org/datasets/catalog/ag_news_subset\n",
        "# split them into train/val/test, train:val = 90:10\n",
        "(raw_train_ds, raw_val_ds, raw_test_ds), info = tfds.load('ag_news_subset',\n",
        "                                                          split=['train[:90%]',\n",
        "                                                                 'train[-90%:]',\n",
        "                                                                 'test'],\n",
        "                                                          with_info=True)\n",
        "_LABEL_NAMES = info.features['label'].names\n",
        "print(f\"Labels: {_LABEL_NAMES}\")\n",
        "\n",
        "batch_size = 128\n",
        "\n",
        "# DataFrame for nice output.\n",
        "train_sample_df = \\\n",
        "    tfds.as_dataframe(raw_train_ds.shuffle(batch_size).take(5),\n",
        "                      ds_info=info)[['description', 'label']]\n",
        "train_sample_df['topic'] = \\\n",
        "    train_sample_df['label'].apply(lambda x: _LABEL_NAMES[x])\n",
        "\n",
        "# Convert dataframe into dataset.\n",
        "raw_train_ds = raw_train_ds.map(convert_ds_to_tuple).batch(batch_size)\n",
        "raw_val_ds = raw_val_ds.map(convert_ds_to_tuple).batch(batch_size)\n",
        "raw_test_ds = raw_test_ds.map(convert_ds_to_tuple).batch(batch_size)\n",
        "train_sample_df"
      ],
      "execution_count": 55,
      "outputs": [
        {
          "output_type": "stream",
          "name": "stdout",
          "text": [
            "Labels: ['World', 'Sports', 'Business', 'Sci/Tech']\n"
          ]
        },
        {
          "output_type": "execute_result",
          "data": {
            "text/plain": [
              "                                                                                                                                             description  \\\n",
              "0                                    b'Britain will run out of leading scientists unless science education is improved, says Professor Colin Pillinger.'   \n",
              "1                b'An Islamic militant group has claimed on its website to have killed 11 Iraqi national guardsmen it kidnapped near Baghdad last week.'   \n",
              "2  b'Despite all the Bond touches, the latest in the Metal Gear Solid series keeps its belly on the ground and does pretty much everything right. Gam...   \n",
              "3  b'A car is overturned in a damaged Route 117 in Ojiya, northwest of Tokyo, Sunday, Oct. 24, 2004. A barrage of powerful quakes jolted the region S...   \n",
              "4  b'AMD #39;s new dual-core Opteron chip is designed mainly for corporate computing applications, including databases, Web services, and financial t...   \n",
              "\n",
              "   label     topic  \n",
              "0      3  Sci/Tech  \n",
              "1      0     World  \n",
              "2      3  Sci/Tech  \n",
              "3      0     World  \n",
              "4      3  Sci/Tech  "
            ],
            "text/html": [
              "\n",
              "  <div id=\"df-0d29ca64-b24a-43a1-9884-2cc07c443cc6\">\n",
              "    <div class=\"colab-df-container\">\n",
              "      <div>\n",
              "<style scoped>\n",
              "    .dataframe tbody tr th:only-of-type {\n",
              "        vertical-align: middle;\n",
              "    }\n",
              "\n",
              "    .dataframe tbody tr th {\n",
              "        vertical-align: top;\n",
              "    }\n",
              "\n",
              "    .dataframe thead th {\n",
              "        text-align: right;\n",
              "    }\n",
              "</style>\n",
              "<table border=\"1\" class=\"dataframe\">\n",
              "  <thead>\n",
              "    <tr style=\"text-align: right;\">\n",
              "      <th></th>\n",
              "      <th>description</th>\n",
              "      <th>label</th>\n",
              "      <th>topic</th>\n",
              "    </tr>\n",
              "  </thead>\n",
              "  <tbody>\n",
              "    <tr>\n",
              "      <th>0</th>\n",
              "      <td>b'Britain will run out of leading scientists unless science education is improved, says Professor Colin Pillinger.'</td>\n",
              "      <td>3</td>\n",
              "      <td>Sci/Tech</td>\n",
              "    </tr>\n",
              "    <tr>\n",
              "      <th>1</th>\n",
              "      <td>b'An Islamic militant group has claimed on its website to have killed 11 Iraqi national guardsmen it kidnapped near Baghdad last week.'</td>\n",
              "      <td>0</td>\n",
              "      <td>World</td>\n",
              "    </tr>\n",
              "    <tr>\n",
              "      <th>2</th>\n",
              "      <td>b'Despite all the Bond touches, the latest in the Metal Gear Solid series keeps its belly on the ground and does pretty much everything right. Gam...</td>\n",
              "      <td>3</td>\n",
              "      <td>Sci/Tech</td>\n",
              "    </tr>\n",
              "    <tr>\n",
              "      <th>3</th>\n",
              "      <td>b'A car is overturned in a damaged Route 117 in Ojiya, northwest of Tokyo, Sunday, Oct. 24, 2004. A barrage of powerful quakes jolted the region S...</td>\n",
              "      <td>0</td>\n",
              "      <td>World</td>\n",
              "    </tr>\n",
              "    <tr>\n",
              "      <th>4</th>\n",
              "      <td>b'AMD #39;s new dual-core Opteron chip is designed mainly for corporate computing applications, including databases, Web services, and financial t...</td>\n",
              "      <td>3</td>\n",
              "      <td>Sci/Tech</td>\n",
              "    </tr>\n",
              "  </tbody>\n",
              "</table>\n",
              "</div>\n",
              "      <button class=\"colab-df-convert\" onclick=\"convertToInteractive('df-0d29ca64-b24a-43a1-9884-2cc07c443cc6')\"\n",
              "              title=\"Convert this dataframe to an interactive table.\"\n",
              "              style=\"display:none;\">\n",
              "        \n",
              "  <svg xmlns=\"http://www.w3.org/2000/svg\" height=\"24px\"viewBox=\"0 0 24 24\"\n",
              "       width=\"24px\">\n",
              "    <path d=\"M0 0h24v24H0V0z\" fill=\"none\"/>\n",
              "    <path d=\"M18.56 5.44l.94 2.06.94-2.06 2.06-.94-2.06-.94-.94-2.06-.94 2.06-2.06.94zm-11 1L8.5 8.5l.94-2.06 2.06-.94-2.06-.94L8.5 2.5l-.94 2.06-2.06.94zm10 10l.94 2.06.94-2.06 2.06-.94-2.06-.94-.94-2.06-.94 2.06-2.06.94z\"/><path d=\"M17.41 7.96l-1.37-1.37c-.4-.4-.92-.59-1.43-.59-.52 0-1.04.2-1.43.59L10.3 9.45l-7.72 7.72c-.78.78-.78 2.05 0 2.83L4 21.41c.39.39.9.59 1.41.59.51 0 1.02-.2 1.41-.59l7.78-7.78 2.81-2.81c.8-.78.8-2.07 0-2.86zM5.41 20L4 18.59l7.72-7.72 1.47 1.35L5.41 20z\"/>\n",
              "  </svg>\n",
              "      </button>\n",
              "      \n",
              "  <style>\n",
              "    .colab-df-container {\n",
              "      display:flex;\n",
              "      flex-wrap:wrap;\n",
              "      gap: 12px;\n",
              "    }\n",
              "\n",
              "    .colab-df-convert {\n",
              "      background-color: #E8F0FE;\n",
              "      border: none;\n",
              "      border-radius: 50%;\n",
              "      cursor: pointer;\n",
              "      display: none;\n",
              "      fill: #1967D2;\n",
              "      height: 32px;\n",
              "      padding: 0 0 0 0;\n",
              "      width: 32px;\n",
              "    }\n",
              "\n",
              "    .colab-df-convert:hover {\n",
              "      background-color: #E2EBFA;\n",
              "      box-shadow: 0px 1px 2px rgba(60, 64, 67, 0.3), 0px 1px 3px 1px rgba(60, 64, 67, 0.15);\n",
              "      fill: #174EA6;\n",
              "    }\n",
              "\n",
              "    [theme=dark] .colab-df-convert {\n",
              "      background-color: #3B4455;\n",
              "      fill: #D2E3FC;\n",
              "    }\n",
              "\n",
              "    [theme=dark] .colab-df-convert:hover {\n",
              "      background-color: #434B5C;\n",
              "      box-shadow: 0px 1px 3px 1px rgba(0, 0, 0, 0.15);\n",
              "      filter: drop-shadow(0px 1px 2px rgba(0, 0, 0, 0.3));\n",
              "      fill: #FFFFFF;\n",
              "    }\n",
              "  </style>\n",
              "\n",
              "      <script>\n",
              "        const buttonEl =\n",
              "          document.querySelector('#df-0d29ca64-b24a-43a1-9884-2cc07c443cc6 button.colab-df-convert');\n",
              "        buttonEl.style.display =\n",
              "          google.colab.kernel.accessAllowed ? 'block' : 'none';\n",
              "\n",
              "        async function convertToInteractive(key) {\n",
              "          const element = document.querySelector('#df-0d29ca64-b24a-43a1-9884-2cc07c443cc6');\n",
              "          const dataTable =\n",
              "            await google.colab.kernel.invokeFunction('convertToInteractive',\n",
              "                                                     [key], {});\n",
              "          if (!dataTable) return;\n",
              "\n",
              "          const docLinkHtml = 'Like what you see? Visit the ' +\n",
              "            '<a target=\"_blank\" href=https://colab.research.google.com/notebooks/data_table.ipynb>data table notebook</a>'\n",
              "            + ' to learn more about interactive tables.';\n",
              "          element.innerHTML = '';\n",
              "          dataTable['output_type'] = 'display_data';\n",
              "          await google.colab.output.renderOutput(dataTable, element);\n",
              "          const docLink = document.createElement('div');\n",
              "          docLink.innerHTML = docLinkHtml;\n",
              "          element.appendChild(docLink);\n",
              "        }\n",
              "      </script>\n",
              "    </div>\n",
              "  </div>\n",
              "  "
            ]
          },
          "metadata": {},
          "execution_count": 55
        }
      ]
    },
    {
      "cell_type": "code",
      "metadata": {
        "id": "0UfjtG0G7ah3",
        "cellView": "form",
        "outputId": "caee91a2-519c-4f26-9157-785b72fbc4ff",
        "colab": {
          "base_uri": "https://localhost:8080/"
        }
      },
      "source": [
        "#@title Build a sequence model to predict the news topic for given text: Pre-processing / Text Vectorization\n",
        "\n",
        "# build the tokenizer layer first\n",
        "vocab_size = 1000\n",
        "e_dim = 64\n",
        "n_classes = info.features['label'].num_classes\n",
        "pre_processing_layer = TextVectorization(max_tokens=vocab_size,\n",
        "                                         output_sequence_length=50,\n",
        "                                         name='Preprocessing_layer')\n",
        "\n",
        "# fit the training set to the layer\n",
        "pre_processing_layer.adapt(raw_train_ds.map(lambda x, y: x))\n",
        "# store the vocab\n",
        "vocab = pre_processing_layer.get_vocabulary()\n",
        "\n",
        "# vectorize the text inputs\n",
        "@tf.autograph.experimental.do_not_convert\n",
        "def vectorize_text(text, label):\n",
        "    text = tf.expand_dims(text, -1)\n",
        "    return pre_processing_layer(text), label\n",
        "\n",
        "# tokenize all datasets and prepare for training\n",
        "train_ds = raw_train_ds.map(vectorize_text)\n",
        "val_ds = raw_val_ds.map(vectorize_text)\n",
        "test_ds = raw_test_ds.map(vectorize_text)\n",
        "\n",
        "AUTOTUNE = tf.data.AUTOTUNE\n",
        "train_ds = train_ds.cache().prefetch(buffer_size=AUTOTUNE)\n",
        "val_ds = val_ds.cache().prefetch(buffer_size=AUTOTUNE)\n",
        "test_ds = test_ds.cache().prefetch(buffer_size=AUTOTUNE)\n",
        "\n",
        "# Print an example input document vector.\n",
        "text_batch, label_batch = next(iter(raw_train_ds.shuffle(50)))\n",
        "first_review, first_label = text_batch[0], label_batch[0]\n",
        "print(\"Review: \", first_review)\n",
        "print(\"Label: \", _LABEL_NAMES[first_label])\n",
        "print(\"Vectorized text\", vectorize_text(first_review, first_label))"
      ],
      "execution_count": 56,
      "outputs": [
        {
          "output_type": "stream",
          "name": "stdout",
          "text": [
            "Review:  tf.Tensor(b'Manager Graeme Souness has stunned the football world by turning his back on Blackburn Rovers to become the new manager of Newcastle United.', shape=(), dtype=string)\n",
            "Label:  Sports\n",
            "Vectorized review (<tf.Tensor: shape=(1, 50), dtype=int64, numpy=\n",
            "array([[427,   1,   1,  20,   1,   2, 302,  51,  18,   1,  24, 117,   8,\n",
            "          1,   1,   4, 468,   2,  21, 427,   5,   1,  72,   0,   0,   0,\n",
            "          0,   0,   0,   0,   0,   0,   0,   0,   0,   0,   0,   0,   0,\n",
            "          0,   0,   0,   0,   0,   0,   0,   0,   0,   0,   0]])>, <tf.Tensor: shape=(), dtype=int64, numpy=1>)\n"
          ]
        }
      ]
    },
    {
      "cell_type": "code",
      "metadata": {
        "id": "a8Fk15UU7s-v",
        "cellView": "form",
        "outputId": "08f69796-bd6b-439a-dba9-529b7fb7dabe",
        "colab": {
          "base_uri": "https://localhost:8080/"
        }
      },
      "source": [
        "#@title Build a sequence model to predict the news topic for given text: Bi-directional LSTM model.\n",
        "tf.keras.backend.clear_session()\n",
        "model = tf.keras.Sequential([\n",
        "    tf.keras.layers.Embedding(input_dim=vocab_size,\n",
        "                              output_dim=e_dim,\n",
        "                              name='embedding',\n",
        "                              mask_zero=True),\n",
        "    tf.keras.layers.Bidirectional(tf.keras.layers.LSTM(32)),\n",
        "    tf.keras.layers.Dense(16, activation='relu'),\n",
        "    tf.keras.layers.Dense(n_classes, activation='softmax', name='probs')\n",
        "])\n",
        "model.summary()"
      ],
      "execution_count": 57,
      "outputs": [
        {
          "output_type": "stream",
          "name": "stdout",
          "text": [
            "Model: \"sequential\"\n",
            "_________________________________________________________________\n",
            " Layer (type)                Output Shape              Param #   \n",
            "=================================================================\n",
            " embedding (Embedding)       (None, None, 64)          64000     \n",
            "                                                                 \n",
            " bidirectional (Bidirectiona  (None, 64)               24832     \n",
            " l)                                                              \n",
            "                                                                 \n",
            " dense (Dense)               (None, 16)                1040      \n",
            "                                                                 \n",
            " probs (Dense)               (None, 4)                 68        \n",
            "                                                                 \n",
            "=================================================================\n",
            "Total params: 89,940\n",
            "Trainable params: 89,940\n",
            "Non-trainable params: 0\n",
            "_________________________________________________________________\n"
          ]
        }
      ]
    },
    {
      "cell_type": "code",
      "metadata": {
        "id": "Dc1_SeaK71yZ",
        "cellView": "form",
        "outputId": "4ac460d6-a21c-4b96-d660-024bb95ee6fb",
        "colab": {
          "base_uri": "https://localhost:8080/"
        }
      },
      "source": [
        "#@title Build a sequence model to predict the news topic for given text: Model training.\n",
        "\n",
        "model.compile(optimizer='adam',\n",
        "              loss=tf.keras.losses.SparseCategoricalCrossentropy(),\n",
        "              metrics=[tf.keras.metrics.SparseCategoricalAccuracy()])\n",
        "model.fit(train_ds, validation_data=val_ds, epochs=5, verbose=1)\n",
        "model.evaluate(test_ds, verbose=2)"
      ],
      "execution_count": 58,
      "outputs": [
        {
          "output_type": "stream",
          "name": "stdout",
          "text": [
            "Epoch 1/5\n",
            "844/844 [==============================] - 52s 47ms/step - loss: 0.5437 - sparse_categorical_accuracy: 0.7840 - val_loss: 0.3941 - val_sparse_categorical_accuracy: 0.8603\n",
            "Epoch 2/5\n",
            "844/844 [==============================] - 17s 21ms/step - loss: 0.4019 - sparse_categorical_accuracy: 0.8545 - val_loss: 0.3790 - val_sparse_categorical_accuracy: 0.8650\n",
            "Epoch 3/5\n",
            "844/844 [==============================] - 18s 22ms/step - loss: 0.3873 - sparse_categorical_accuracy: 0.8594 - val_loss: 0.3652 - val_sparse_categorical_accuracy: 0.8686\n",
            "Epoch 4/5\n",
            "844/844 [==============================] - 17s 21ms/step - loss: 0.3739 - sparse_categorical_accuracy: 0.8642 - val_loss: 0.3525 - val_sparse_categorical_accuracy: 0.8722\n",
            "Epoch 5/5\n",
            "844/844 [==============================] - 20s 23ms/step - loss: 0.3602 - sparse_categorical_accuracy: 0.8681 - val_loss: 0.3386 - val_sparse_categorical_accuracy: 0.8764\n",
            "60/60 - 1s - loss: 0.3923 - sparse_categorical_accuracy: 0.8568 - 655ms/epoch - 11ms/step\n"
          ]
        },
        {
          "output_type": "execute_result",
          "data": {
            "text/plain": [
              "[0.39228373765945435, 0.8568421006202698]"
            ]
          },
          "metadata": {},
          "execution_count": 58
        }
      ]
    },
    {
      "cell_type": "code",
      "metadata": {
        "id": "gfJxXXAG861c",
        "cellView": "form",
        "outputId": "d908b41b-25e2-4f37-cd08-bdebfc4b7c7d",
        "colab": {
          "base_uri": "https://localhost:8080/",
          "height": 448
        }
      },
      "source": [
        "#@title Build a sequence model to predict the news topic for given text: Model evaluation on test set.\n",
        "\n",
        "test_probs = model.predict(test_ds)\n",
        "test_preds = tf.argmax(test_probs, axis=1)\n",
        "test_labels = \\\n",
        "    test_ds.flat_map(lambda x, y:\n",
        "                     tf.data.Dataset.from_tensor_slices(y)).as_numpy_iterator()\n",
        "test_labels = tf.convert_to_tensor(list(test_labels), dtype=test_preds.dtype)\n",
        "cm = tf.math.confusion_matrix(test_labels, test_preds)\n",
        "sns.heatmap(cm, annot=True, fmt='d', cmap=\"Blues\", xticklabels=_LABEL_NAMES,\n",
        "            yticklabels=_LABEL_NAMES, cbar=False)\n",
        "plt.show()"
      ],
      "execution_count": 59,
      "outputs": [
        {
          "output_type": "stream",
          "name": "stdout",
          "text": [
            "60/60 [==============================] - 5s 13ms/step\n"
          ]
        },
        {
          "output_type": "display_data",
          "data": {
            "text/plain": [
              "<Figure size 640x480 with 1 Axes>"
            ],
            "image/png": "[encoded data removed]"
          },
          "metadata": {}
        }
      ]
    },
    {
      "cell_type": "code",
      "metadata": {
        "id": "tqoEde3c9JkW",
        "cellView": "form"
      },
      "source": [
        "#@title Explaining the model: implement path-integrated-gradients from scratch.\n",
        "\n",
        "# Based on https://arxiv.org/pdf/1703.01365.pdf\n",
        "\n",
        "# Important note: embedding lookup layer is not differentiable. So we will get\n",
        "# the embedding layer out and build the rest of the model as a new_model to\n",
        "# explain.\n",
        "\n",
        "embed_layer = model.get_layer('embedding')\n",
        "new_model = tf.keras.Sequential()\n",
        "for layer in model.layers[1:]:\n",
        "    new_model.add(layer)\n",
        "\n",
        "\n",
        "def interpolate_texts(baseline, text, m_steps=50):\n",
        "    \"\"\"Raw inputs interpolated between [0, ..., 0] to text\"\"\"\n",
        "    alphas = tf.linspace(start=0.0, stop=1.0, num=m_steps+1)\n",
        "    alphas_x = alphas[:, tf.newaxis, tf.newaxis]\n",
        "    delta = text - baseline\n",
        "    texts = baseline + alphas_x * delta\n",
        "    return texts\n",
        "\n",
        "def compute_gradients(t, target_class_idx):\n",
        "    with tf.GradientTape() as tape:\n",
        "        tape.watch(t)\n",
        "        probs = new_model(t)[:, target_class_idx]\n",
        "    grads = tape.gradient(probs, t)\n",
        "    return grads"
      ],
      "execution_count": 86,
      "outputs": []
    },
    {
      "cell_type": "code",
      "metadata": {
        "id": "xBRZf47i9UKD",
        "cellView": "form",
        "outputId": "ac2a4301-f9ec-4903-84ab-992330dc4ce5",
        "colab": {
          "base_uri": "https://localhost:8080/"
        }
      },
      "source": [
        "#@title Explaining the model: choose samples from test set to predict and explain.\n",
        "# Samples from test dataset that we will explain from.\n",
        "sample_vectors = next(test_ds.take(1).as_numpy_iterator())[0]\n",
        "sample_texts = next(raw_test_ds.take(1).as_numpy_iterator())[0]\n",
        "sample_labels = next(test_ds.take(1).as_numpy_iterator())[1]\n",
        "[(idx, _LABEL_NAMES[sample_label]) for idx, sample_label in enumerate(sample_labels)]\n"
      ],
      "execution_count": 89,
      "outputs": [
        {
          "output_type": "execute_result",
          "data": {
            "text/plain": [
              "[(0, 'Sports'),\n",
              " (1, 'World'),\n",
              " (2, 'Sci/Tech'),\n",
              " (3, 'Sports'),\n",
              " (4, 'World'),\n",
              " (5, 'Sci/Tech'),\n",
              " (6, 'Sports'),\n",
              " (7, 'Sports'),\n",
              " (8, 'World'),\n",
              " (9, 'Business'),\n",
              " (10, 'World'),\n",
              " (11, 'Sci/Tech'),\n",
              " (12, 'Business'),\n",
              " (13, 'World'),\n",
              " (14, 'World'),\n",
              " (15, 'Sports'),\n",
              " (16, 'Sports'),\n",
              " (17, 'Sci/Tech'),\n",
              " (18, 'Business'),\n",
              " (19, 'World'),\n",
              " (20, 'Business'),\n",
              " (21, 'Sci/Tech'),\n",
              " (22, 'World'),\n",
              " (23, 'Business'),\n",
              " (24, 'Sci/Tech'),\n",
              " (25, 'World'),\n",
              " (26, 'Sci/Tech'),\n",
              " (27, 'World'),\n",
              " (28, 'Business'),\n",
              " (29, 'World'),\n",
              " (30, 'Sci/Tech'),\n",
              " (31, 'Sci/Tech'),\n",
              " (32, 'Business'),\n",
              " (33, 'Sci/Tech'),\n",
              " (34, 'Business'),\n",
              " (35, 'Sci/Tech'),\n",
              " (36, 'World'),\n",
              " (37, 'Sci/Tech'),\n",
              " (38, 'Sports'),\n",
              " (39, 'Sci/Tech'),\n",
              " (40, 'World'),\n",
              " (41, 'Business'),\n",
              " (42, 'World'),\n",
              " (43, 'Sports'),\n",
              " (44, 'Business'),\n",
              " (45, 'Sports'),\n",
              " (46, 'World'),\n",
              " (47, 'Sports'),\n",
              " (48, 'Business'),\n",
              " (49, 'Sci/Tech'),\n",
              " (50, 'World'),\n",
              " (51, 'Sci/Tech'),\n",
              " (52, 'Sports'),\n",
              " (53, 'Business'),\n",
              " (54, 'Sports'),\n",
              " (55, 'Sci/Tech'),\n",
              " (56, 'Business'),\n",
              " (57, 'World'),\n",
              " (58, 'Sci/Tech'),\n",
              " (59, 'Sci/Tech'),\n",
              " (60, 'World'),\n",
              " (61, 'Sports'),\n",
              " (62, 'Sports'),\n",
              " (63, 'Sci/Tech'),\n",
              " (64, 'Sci/Tech'),\n",
              " (65, 'Business'),\n",
              " (66, 'World'),\n",
              " (67, 'Sci/Tech'),\n",
              " (68, 'Sci/Tech'),\n",
              " (69, 'World'),\n",
              " (70, 'Business'),\n",
              " (71, 'Sci/Tech'),\n",
              " (72, 'World'),\n",
              " (73, 'Sci/Tech'),\n",
              " (74, 'Sports'),\n",
              " (75, 'World'),\n",
              " (76, 'Sci/Tech'),\n",
              " (77, 'Sports'),\n",
              " (78, 'Sports'),\n",
              " (79, 'Business'),\n",
              " (80, 'World'),\n",
              " (81, 'Business'),\n",
              " (82, 'Sci/Tech'),\n",
              " (83, 'World'),\n",
              " (84, 'Business'),\n",
              " (85, 'Sports'),\n",
              " (86, 'World'),\n",
              " (87, 'Sci/Tech'),\n",
              " (88, 'Sci/Tech'),\n",
              " (89, 'Sports'),\n",
              " (90, 'Sports'),\n",
              " (91, 'Sci/Tech'),\n",
              " (92, 'Business'),\n",
              " (93, 'Sci/Tech'),\n",
              " (94, 'Sci/Tech'),\n",
              " (95, 'World'),\n",
              " (96, 'Sports'),\n",
              " (97, 'Business'),\n",
              " (98, 'World'),\n",
              " (99, 'Sci/Tech'),\n",
              " (100, 'Business'),\n",
              " (101, 'World'),\n",
              " (102, 'Business'),\n",
              " (103, 'Sci/Tech'),\n",
              " (104, 'Sci/Tech'),\n",
              " (105, 'Sports'),\n",
              " (106, 'World'),\n",
              " (107, 'Sci/Tech'),\n",
              " (108, 'Sports'),\n",
              " (109, 'World'),\n",
              " (110, 'World'),\n",
              " (111, 'World'),\n",
              " (112, 'World'),\n",
              " (113, 'Sports'),\n",
              " (114, 'Business'),\n",
              " (115, 'Sports'),\n",
              " (116, 'Sports'),\n",
              " (117, 'Sci/Tech'),\n",
              " (118, 'Sci/Tech'),\n",
              " (119, 'Sci/Tech'),\n",
              " (120, 'World'),\n",
              " (121, 'Sports'),\n",
              " (122, 'Sports'),\n",
              " (123, 'Business'),\n",
              " (124, 'World'),\n",
              " (125, 'Business'),\n",
              " (126, 'Sports'),\n",
              " (127, 'World')]"
            ]
          },
          "metadata": {},
          "execution_count": 89
        }
      ]
    },
    {
      "cell_type": "code",
      "source": [
        "#@title Explaining the model: choose an example to predict and explain.\n",
        "\n",
        "# Generate a random sample to explain.\n",
        "index = tf.cast(tf.random.uniform(shape=[1],\n",
        "                                  minval=sample_vectors.shape[0]),\n",
        "                dtype=tf.int8).numpy()[0]\n",
        "sample_text = sample_texts[index]\n",
        "sample_vector = sample_vectors[index]\n",
        "sample_label = sample_labels[index]\n",
        "# get embeddings\n",
        "sample_embed = embed_layer(sample_vector)\n",
        "# Create a Baseline vector with zero embeddings\n",
        "baseline_embed = tf.zeros(shape=tf.shape(sample_embed))\n",
        "# get preds for sample\n",
        "sample_preds = model(sample_vectors)[index]\n",
        "# print the results with color codes\n",
        "words = [vocab[i] for i in sample_vector]\n",
        "print(\"Text that we will predict on, and explain:\\n\\t\" + \" \".join(words))\n",
        "print(f\"True Label: {_LABEL_NAMES[sample_label]}\")\n",
        "print(f\"Predicted Label: \"\n",
        "      f\"{_LABEL_NAMES[tf.argmax(sample_preds).numpy()]}\")"
      ],
      "metadata": {
        "cellView": "form",
        "id": "aM2BggUgyHOI",
        "outputId": "7acfd687-8ee6-4265-f323-f47fb93e2d42",
        "colab": {
          "base_uri": "https://localhost:8080/"
        }
      },
      "execution_count": 91,
      "outputs": [
        {
          "output_type": "stream",
          "name": "stdout",
          "text": [
            "Text that we will predict on, and explain:\n",
            "\t[UNK] [UNK] sports network [UNK] [UNK] running back [UNK] [UNK] will [UNK] the [UNK] of the season after being [UNK] on injured reserve saturday                          \n",
            "True Label: Sports\n",
            "Predicted Label: Sports\n"
          ]
        }
      ]
    },
    {
      "cell_type": "code",
      "metadata": {
        "id": "Y0pjECFx9c8Y",
        "cellView": "form",
        "outputId": "aa72081a-c224-4e62-d955-c596f4e0b65b",
        "colab": {
          "base_uri": "https://localhost:8080/"
        }
      },
      "source": [
        "#@title Explaining the model: run path integrated gradients on chosen example.\n",
        "\n",
        "# Shape of interpolated_texts is:\n",
        "# (num_interpolations, seq_len, embed_dim)\n",
        "interpolated_texts = interpolate_texts(baseline_embed,\n",
        "                                       sample_embed)\n",
        "# We will use the sample_label,\n",
        "# we could use the argmax of the predicted label too.\n",
        "target_label = sample_label # target_label = 2\n",
        "path_gradients = compute_gradients(interpolated_texts, target_label)\n",
        "\n",
        "# sum the grads of the interpolated vectors\n",
        "all_grads = tf.reduce_sum(path_gradients, axis=0) / 50\n",
        "# mulitply grads by (input - baseline); baseline is zero vectors\n",
        "x_grads = tf.math.multiply(all_grads, sample_embed)\n",
        "# sum all gradients across the embedding dimension\n",
        "igs = tf.reduce_sum(x_grads, axis=-1).numpy()\n",
        "igs"
      ],
      "execution_count": 92,
      "outputs": [
        {
          "output_type": "execute_result",
          "data": {
            "text/plain": [
              "array([ 0.01503567,  0.00951594,  0.585492  ,  0.04791806,  0.00839702,\n",
              "        0.00771074,  0.12669863,  0.08726814,  0.00857167,  0.00859937,\n",
              "        0.0452485 ,  0.00903757,  0.02222231,  0.00916978, -0.03345826,\n",
              "        0.02799248,  0.32904336,  0.00628255,  0.05651209,  0.00840228,\n",
              "        0.02304166, -0.0586144 , -0.03237599, -0.01450913, -0.02901262,\n",
              "       -0.02841164, -0.02763817, -0.02683578, -0.02601073, -0.02515788,\n",
              "       -0.02427566, -0.02336648, -0.02243602, -0.02149162, -0.02054083,\n",
              "       -0.01959039, -0.01864573, -0.01771067, -0.01678715, -0.01587475,\n",
              "       -0.01497041, -0.01406854, -0.01316183, -0.01224302, -0.01130759,\n",
              "       -0.01035765, -0.00940669, -0.00848116, -0.00760047, -0.00802505],\n",
              "      dtype=float32)"
            ]
          },
          "metadata": {},
          "execution_count": 92
        }
      ]
    },
    {
      "cell_type": "code",
      "metadata": {
        "id": "B1GtO3ZmCjxz",
        "cellView": "form",
        "outputId": "f5b74eb6-cc82-49e8-ffa9-cc6553f1037c",
        "colab": {
          "base_uri": "https://localhost:8080/",
          "height": 288
        }
      },
      "source": [
        "#@title Explaining the model: visualize the feature attributions.\n",
        "\n",
        "# Visualization code taken from:\n",
        "# https://docs.seldon.io/projects/alibi/en/stable/examples/integrated_gradients_imdb.html\n",
        "\n",
        "def  hlstr(string, color='white'):\n",
        "    \"\"\"\n",
        "    Return HTML markup highlighting text with the desired color.\n",
        "    \"\"\"\n",
        "    return f\"<mark style=background-color:{color}>{string} </mark>\"\n",
        "\n",
        "\n",
        "def colorize(attrs, cmap='PiYG'):\n",
        "    \"\"\"\n",
        "    Compute hex colors based on the attributions for a single instance.\n",
        "    Uses a diverging colorscale by default and normalizes and scales\n",
        "    the colormap so that colors are consistent with the attributions.\n",
        "    \"\"\"\n",
        "\n",
        "    cmap_bound = tf.reduce_max(tf.abs(attrs))\n",
        "    norm = Normalize(vmin=-cmap_bound, vmax=cmap_bound)\n",
        "    cmap = mpl.colormaps.get_cmap(cmap)\n",
        "\n",
        "    # now compute hex values of colors\n",
        "    colors = list(map(lambda x: rgb2hex(cmap(norm(x))), attrs))\n",
        "    return colors\n",
        "\n",
        "colors = colorize(igs)\n",
        "print(f\"Sample Text: {str(sample_text)}\\n\")\n",
        "# print(f\"Sample Vector: {sample_vector}\")\n",
        "\n",
        "print(\"Predictions : \")\n",
        "for index in tf.argsort(sample_preds,\n",
        "                        axis=-1, direction='DESCENDING').numpy():\n",
        "    print(f\"\\t{_LABEL_NAMES[index]} --> {sample_preds[index]*100:0.2f}%\")\n",
        "\n",
        "print(f\"\\nTrue Label: {_LABEL_NAMES[sample_label]}\")\n",
        "print(f\"\\nAttributions for Label: {_LABEL_NAMES[target_label]}\")\n",
        "print(f\"\\nTop 5 Important words: \"\n",
        "      f\"{[words[i] for i in tf.argsort(igs, -1, 'DESCENDING')[:5]]}\\n\")\n",
        "HTML(\"\".join(list(map(hlstr, words, colors))))"
      ],
      "execution_count": 93,
      "outputs": [
        {
          "output_type": "stream",
          "name": "stdout",
          "text": [
            "Sample Text: b' CHARLOTTE, N.C. (Sports Network) - Carolina Panthers  running back Stephen Davis will miss the remainder of the  season after being placed on injured reserve Saturday.'\n",
            "\n",
            "Predictions : \n",
            "\tSports --> 99.87%\n",
            "\tWorld --> 0.12%\n",
            "\tBusiness --> 0.01%\n",
            "\tSci/Tech --> 0.00%\n",
            "\n",
            "True Label: Sports\n",
            "\n",
            "Attributions for Label: Sports\n",
            "\n",
            "Top 5 Important words: ['sports', 'season', 'running', 'back', 'being']\n",
            "\n"
          ]
        },
        {
          "output_type": "execute_result",
          "data": {
            "text/plain": [
              "<IPython.core.display.HTML object>"
            ],
            "text/html": [
              "<mark style=background-color:#f5f7f2>[UNK] </mark><mark style=background-color:#f5f7f3>[UNK] </mark><mark style=background-color:#276419>sports </mark><mark style=background-color:#f0f6e7>network </mark><mark style=background-color:#f6f7f5>[UNK] </mark><mark style=background-color:#f6f7f5>[UNK] </mark><mark style=background-color:#e2f3ca>running </mark><mark style=background-color:#eaf5d9>back </mark><mark style=background-color:#f6f7f5>[UNK] </mark><mark style=background-color:#f6f7f5>[UNK] </mark><mark style=background-color:#f1f6e8>will </mark><mark style=background-color:#f6f7f5>[UNK] </mark><mark style=background-color:#f4f7f0>the </mark><mark style=background-color:#f5f7f3>[UNK] </mark><mark style=background-color:#f9f0f5>of </mark><mark style=background-color:#f3f6ed>the </mark><mark style=background-color:#8ac34f>season </mark><mark style=background-color:#f6f7f5>after </mark><mark style=background-color:#eff6e4>being </mark><mark style=background-color:#f6f7f5>[UNK] </mark><mark style=background-color:#f3f7ef>on </mark><mark style=background-color:#faecf3>injured </mark><mark style=background-color:#f9f0f5>reserve </mark><mark style=background-color:#f8f4f6>saturday </mark><mark style=background-color:#f9f1f5> </mark><mark style=background-color:#f9f1f5> </mark><mark style=background-color:#f9f1f5> </mark><mark style=background-color:#f8f2f5> </mark><mark style=background-color:#f8f2f5> </mark><mark style=background-color:#f8f2f5> </mark><mark style=background-color:#f8f2f5> </mark><mark style=background-color:#f8f2f5> </mark><mark style=background-color:#f8f3f6> </mark><mark style=background-color:#f8f3f6> </mark><mark style=background-color:#f8f3f6> </mark><mark style=background-color:#f8f3f6> </mark><mark style=background-color:#f8f3f6> </mark><mark style=background-color:#f8f4f6> </mark><mark style=background-color:#f8f4f6> </mark><mark style=background-color:#f8f4f6> </mark><mark style=background-color:#f8f4f6> </mark><mark style=background-color:#f8f4f6> </mark><mark style=background-color:#f8f5f6> </mark><mark style=background-color:#f8f5f6> </mark><mark style=background-color:#f8f5f6> </mark><mark style=background-color:#f8f5f6> </mark><mark style=background-color:#f8f5f6> </mark><mark style=background-color:#f7f6f7> </mark><mark style=background-color:#f7f6f7> </mark><mark style=background-color:#f7f6f7> </mark>"
            ]
          },
          "metadata": {},
          "execution_count": 93
        }
      ]
    }
  ]
}