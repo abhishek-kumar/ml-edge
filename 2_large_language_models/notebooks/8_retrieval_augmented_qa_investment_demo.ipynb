{
  "nbformat": 4,
  "nbformat_minor": 0,
  "metadata": {
    "colab": {
      "provenance": []
    },
    "kernelspec": {
      "name": "python3",
      "display_name": "Python 3"
    }
  },
  "cells": [
    {
      "cell_type": "code",
      "metadata": {
        "id": "-U6egfDiEdfP",
        "outputId": "ea7e7695-25a9-4d10-b77e-e40aef4532e2",
        "colab": {
          "base_uri": "https://localhost:8080/"
        }
      },
      "source": [
        "#@title Install libraries. Kernel restart required to downgrade a component library.\n",
        "!pip -q install configparser langchain google-generativeai chromadb\n",
        "!pip -q install transformers huggingface_hub sentence_transformers\n",
        "!pip install 'google-cloud-aiplatform>=1.26.0'"
      ],
      "execution_count": 1,
      "outputs": [
        {
          "output_type": "stream",
          "name": "stdout",
          "text": [
            "\u001b[2K     \u001b[90m━━━━━━━━━━━━━━━━━━━━━━━━━━━━━━━━━━━━━━━━\u001b[0m \u001b[32m1.2/1.2 MB\u001b[0m \u001b[31m22.3 MB/s\u001b[0m eta \u001b[36m0:00:00\u001b[0m\n",
            "\u001b[2K     \u001b[90m━━━━━━━━━━━━━━━━━━━━━━━━━━━━━━━━━━━━━━━\u001b[0m \u001b[32m122.9/122.9 kB\u001b[0m \u001b[31m5.2 MB/s\u001b[0m eta \u001b[36m0:00:00\u001b[0m\n",
            "\u001b[2K     \u001b[90m━━━━━━━━━━━━━━━━━━━━━━━━━━━━━━━━━━━━━━\u001b[0m \u001b[32m123.6/123.6 kB\u001b[0m \u001b[31m10.3 MB/s\u001b[0m eta \u001b[36m0:00:00\u001b[0m\n",
            "\u001b[2K     \u001b[90m━━━━━━━━━━━━━━━━━━━━━━━━━━━━━━━━━━━━━━━━\u001b[0m \u001b[32m90.0/90.0 kB\u001b[0m \u001b[31m8.5 MB/s\u001b[0m eta \u001b[36m0:00:00\u001b[0m\n",
            "\u001b[2K     \u001b[90m━━━━━━━━━━━━━━━━━━━━━━━━━━━━━━━━━━━━━━\u001b[0m \u001b[32m113.3/113.3 kB\u001b[0m \u001b[31m12.9 MB/s\u001b[0m eta \u001b[36m0:00:00\u001b[0m\n",
            "\u001b[2K     \u001b[90m━━━━━━━━━━━━━━━━━━━━━━━━━━━━━━━━━━━━━━━━\u001b[0m \u001b[32m62.6/62.6 kB\u001b[0m \u001b[31m5.6 MB/s\u001b[0m eta \u001b[36m0:00:00\u001b[0m\n",
            "\u001b[?25h  Installing build dependencies ... \u001b[?25l\u001b[?25hdone\n",
            "  Getting requirements to build wheel ... \u001b[?25l\u001b[?25hdone\n",
            "  Preparing metadata (pyproject.toml) ... \u001b[?25l\u001b[?25hdone\n",
            "\u001b[2K     \u001b[90m━━━━━━━━━━━━━━━━━━━━━━━━━━━━━━━━━━━━━━\u001b[0m \u001b[32m966.7/966.7 kB\u001b[0m \u001b[31m38.6 MB/s\u001b[0m eta \u001b[36m0:00:00\u001b[0m\n",
            "\u001b[2K     \u001b[90m━━━━━━━━━━━━━━━━━━━━━━━━━━━━━━━━━━━━━━━\u001b[0m \u001b[32m58.4/58.4 kB\u001b[0m \u001b[31m280.6 kB/s\u001b[0m eta \u001b[36m0:00:00\u001b[0m\n",
            "\u001b[2K     \u001b[90m━━━━━━━━━━━━━━━━━━━━━━━━━━━━━━━━━━━━━━━━\u001b[0m \u001b[32m58.3/58.3 kB\u001b[0m \u001b[31m6.2 MB/s\u001b[0m eta \u001b[36m0:00:00\u001b[0m\n",
            "\u001b[2K     \u001b[90m━━━━━━━━━━━━━━━━━━━━━━━━━━━━━━━━━━━━━━━━\u001b[0m \u001b[32m5.3/5.3 MB\u001b[0m \u001b[31m69.9 MB/s\u001b[0m eta \u001b[36m0:00:00\u001b[0m\n",
            "\u001b[2K     \u001b[90m━━━━━━━━━━━━━━━━━━━━━━━━━━━━━━━━━━━━━━━━\u001b[0m \u001b[32m5.9/5.9 MB\u001b[0m \u001b[31m71.6 MB/s\u001b[0m eta \u001b[36m0:00:00\u001b[0m\n",
            "\u001b[2K     \u001b[90m━━━━━━━━━━━━━━━━━━━━━━━━━━━━━━━━━━━━━━━━\u001b[0m \u001b[32m7.8/7.8 MB\u001b[0m \u001b[31m67.2 MB/s\u001b[0m eta \u001b[36m0:00:00\u001b[0m\n",
            "\u001b[2K     \u001b[90m━━━━━━━━━━━━━━━━━━━━━━━━━━━━━━━━━━━━━━━━\u001b[0m \u001b[32m2.7/2.7 MB\u001b[0m \u001b[31m93.4 MB/s\u001b[0m eta \u001b[36m0:00:00\u001b[0m\n",
            "\u001b[2K     \u001b[90m━━━━━━━━━━━━━━━━━━━━━━━━━━━━━━━━━━━━━━━━\u001b[0m \u001b[32m1.3/1.3 MB\u001b[0m \u001b[31m54.6 MB/s\u001b[0m eta \u001b[36m0:00:00\u001b[0m\n",
            "\u001b[2K     \u001b[90m━━━━━━━━━━━━━━━━━━━━━━━━━━━━━━━━━━━━━━━━\u001b[0m \u001b[32m49.1/49.1 kB\u001b[0m \u001b[31m5.2 MB/s\u001b[0m eta \u001b[36m0:00:00\u001b[0m\n",
            "\u001b[2K     \u001b[90m━━━━━━━━━━━━━━━━━━━━━━━━━━━━━━━━━━━━━━━━\u001b[0m \u001b[32m67.0/67.0 kB\u001b[0m \u001b[31m8.0 MB/s\u001b[0m eta \u001b[36m0:00:00\u001b[0m\n",
            "\u001b[2K     \u001b[90m━━━━━━━━━━━━━━━━━━━━━━━━━━━━━━━━━━━━━━━━\u001b[0m \u001b[32m46.0/46.0 kB\u001b[0m \u001b[31m5.4 MB/s\u001b[0m eta \u001b[36m0:00:00\u001b[0m\n",
            "\u001b[2K     \u001b[90m━━━━━━━━━━━━━━━━━━━━━━━━━━━━━━━━━━━━━━━━\u001b[0m \u001b[32m58.3/58.3 kB\u001b[0m \u001b[31m1.4 MB/s\u001b[0m eta \u001b[36m0:00:00\u001b[0m\n",
            "\u001b[2K     \u001b[90m━━━━━━━━━━━━━━━━━━━━━━━━━━━━━━━━━━━━━━\u001b[0m \u001b[32m414.1/414.1 kB\u001b[0m \u001b[31m43.6 MB/s\u001b[0m eta \u001b[36m0:00:00\u001b[0m\n",
            "\u001b[2K     \u001b[90m━━━━━━━━━━━━━━━━━━━━━━━━━━━━━━━━━━━━━━━━\u001b[0m \u001b[32m4.1/4.1 MB\u001b[0m \u001b[31m101.9 MB/s\u001b[0m eta \u001b[36m0:00:00\u001b[0m\n",
            "\u001b[2K     \u001b[90m━━━━━━━━━━━━━━━━━━━━━━━━━━━━━━━━━━━━━━━━\u001b[0m \u001b[32m1.3/1.3 MB\u001b[0m \u001b[31m77.4 MB/s\u001b[0m eta \u001b[36m0:00:00\u001b[0m\n",
            "\u001b[2K     \u001b[90m━━━━━━━━━━━━━━━━━━━━━━━━━━━━━━━━━━━━━━\u001b[0m \u001b[32m129.9/129.9 kB\u001b[0m \u001b[31m15.5 MB/s\u001b[0m eta \u001b[36m0:00:00\u001b[0m\n",
            "\u001b[2K     \u001b[90m━━━━━━━━━━━━━━━━━━━━━━━━━━━━━━━━━━━━━━━━\u001b[0m \u001b[32m86.8/86.8 kB\u001b[0m \u001b[31m11.2 MB/s\u001b[0m eta \u001b[36m0:00:00\u001b[0m\n",
            "\u001b[?25h  Building wheel for hnswlib (pyproject.toml) ... \u001b[?25l\u001b[?25hdone\n",
            "\u001b[31mERROR: pip's dependency resolver does not currently take into account all the packages that are installed. This behaviour is the source of the following dependency conflicts.\n",
            "google-colab 1.0.0 requires requests==2.27.1, but you have requests 2.31.0 which is incompatible.\u001b[0m\u001b[31m\n",
            "\u001b[2K     \u001b[90m━━━━━━━━━━━━━━━━━━━━━━━━━━━━━━━━━━━━━━━━\u001b[0m \u001b[32m7.2/7.2 MB\u001b[0m \u001b[31m69.4 MB/s\u001b[0m eta \u001b[36m0:00:00\u001b[0m\n",
            "\u001b[2K     \u001b[90m━━━━━━━━━━━━━━━━━━━━━━━━━━━━━━━━━━━━━━\u001b[0m \u001b[32m268.5/268.5 kB\u001b[0m \u001b[31m27.7 MB/s\u001b[0m eta \u001b[36m0:00:00\u001b[0m\n",
            "\u001b[2K     \u001b[90m━━━━━━━━━━━━━━━━━━━━━━━━━━━━━━━━━━━━━━━━\u001b[0m \u001b[32m86.0/86.0 kB\u001b[0m \u001b[31m11.5 MB/s\u001b[0m eta \u001b[36m0:00:00\u001b[0m\n",
            "\u001b[?25h  Preparing metadata (setup.py) ... \u001b[?25l\u001b[?25hdone\n",
            "\u001b[2K     \u001b[90m━━━━━━━━━━━━━━━━━━━━━━━━━━━━━━━━━━━━━━━━\u001b[0m \u001b[32m1.3/1.3 MB\u001b[0m \u001b[31m73.0 MB/s\u001b[0m eta \u001b[36m0:00:00\u001b[0m\n",
            "\u001b[2K     \u001b[90m━━━━━━━━━━━━━━━━━━━━━━━━━━━━━━━━━━━━━━━━\u001b[0m \u001b[32m1.3/1.3 MB\u001b[0m \u001b[31m63.7 MB/s\u001b[0m eta \u001b[36m0:00:00\u001b[0m\n",
            "\u001b[?25h  Building wheel for sentence_transformers (setup.py) ... \u001b[?25l\u001b[?25hdone\n"
          ]
        }
      ]
    },
    {
      "cell_type": "code",
      "source": [
        "#@title Authentication for VertexAI.\n",
        "!gcloud auth application-default login\n",
        "# Use your project id here.\n",
        "!gcloud config set project stellar-works-391900\n",
        "!gcloud auth application-default set-quota-project stellar-works-391900"
      ],
      "metadata": {
        "cellView": "form",
        "id": "bwtZitp_Q-ld",
        "outputId": "515ebf84-c1c0-4160-f417-d31da795393c",
        "colab": {
          "base_uri": "https://localhost:8080/"
        }
      },
      "execution_count": 2,
      "outputs": [
        {
          "output_type": "stream",
          "name": "stdout",
          "text": [
            "Go to the following link in your browser:\n",
            "\n",
            "    https://accounts.google.com/o/oauth2/auth?response_type=code&client_id=764086051850-6qr4p6gpi6hn506pt8ejuq83di341hur.apps.googleusercontent.com&redirect_uri=https%3A%2F%2Fsdk.cloud.google.com%2Fapplicationdefaultauthcode.html&scope=openid+https%3A%2F%2Fwww.googleapis.com%2Fauth%2Fuserinfo.email+https%3A%2F%2Fwww.googleapis.com%2Fauth%2Fcloud-platform+https%3A%2F%2Fwww.googleapis.com%2Fauth%2Fsqlservice.login+https%3A%2F%2Fwww.googleapis.com%2Fauth%2Faccounts.reauth&state=PFejBVAZVJ7noi1WTihUKg4hOyoiNK&prompt=consent&access_type=offline&code_challenge=2zeh6OG1OrQgDBnQ-8SERxssx0WyzQS0FgUmp0AcOw0&code_challenge_method=S256\n",
            "\n",
            "Enter authorization code: 4/0AZEOvhWRoxYi1kgklPPbnZOF0dHxkD9qr3nBMvR2xAFJBu1jcbkgM9yysDOvAwX8eIUtEg\n",
            "\n",
            "Credentials saved to file: [/content/.config/application_default_credentials.json]\n",
            "\n",
            "These credentials will be used by any library that requests Application Default Credentials (ADC).\n",
            "\n",
            "Quota project \"stellar-works-391900\" was added to ADC which can be used by Google client libraries for billing and quota. Note that some services may still bill the project owning the resource.\n",
            "Updated property [core/project].\n"
          ]
        }
      ]
    },
    {
      "cell_type": "code",
      "metadata": {
        "id": "tLvsgdAqEsqv",
        "cellView": "form"
      },
      "source": [
        "#@title Useful libraries to import and play with.\n",
        "import os\n",
        "from dotenv import load_dotenv, find_dotenv # To load API keys from .env file.\n",
        "# VertexAI also uses PalM but it's got more bells and whistles,\n",
        "# e.g. you can send private data.\n",
        "from langchain.llms import GooglePalm\n",
        "# Many methods to transform text into embeddings.\n",
        "from langchain.embeddings import GooglePalmEmbeddings\n",
        "from langchain.embeddings import HuggingFaceEmbeddings\n",
        "from langchain.embeddings import SentenceTransformerEmbeddings\n",
        "\n",
        "# Prompting, LLMChain, Retrieval QA.\n",
        "from langchain import PromptTemplate, LLMChain\n",
        "from langchain.chains import RetrievalQA\n",
        "\n",
        "# Retrieval and indexing of web data.\n",
        "from langchain.document_loaders import WebBaseLoader\n",
        "from langchain.text_splitter import RecursiveCharacterTextSplitter\n",
        "from langchain.indexes import VectorstoreIndexCreator\n",
        "\n",
        "# VertexAI\n",
        "from langchain.llms import VertexAI\n",
        "from IPython.display import display, Markdown, Latex\n",
        "\n"
      ],
      "execution_count": null,
      "outputs": []
    },
    {
      "cell_type": "code",
      "source": [
        "#@title VertexAI: Complex multi-part question.\n",
        "llm = VertexAI()\n",
        "def build_llm_chain(llm):\n",
        "  template = \"Question: {question}\\n\\nAnswer: Let's think step by step.\\n\"\n",
        "  prompt_open = PromptTemplate(template=template, input_variables=[\"question\"])\n",
        "  return LLMChain(prompt=prompt_open, llm=llm)\n",
        "\n",
        "\n",
        "result = build_llm_chain(llm).run(\n",
        "  \"What NFL team won the Super Bowl in the year Justin Beiber was born?\")\n",
        "print(result)"
      ],
      "metadata": {
        "colab": {
          "base_uri": "https://localhost:8080/"
        },
        "id": "t2Lx_ejpPWWD",
        "outputId": "8cc5f4d7-0302-4608-88f7-6cda4744e9ed",
        "cellView": "form"
      },
      "execution_count": 31,
      "outputs": [
        {
          "output_type": "stream",
          "name": "stdout",
          "text": [
            "Justin Beiber was born on March 1, 1994. The Super Bowl in 1994 was won by the San Francisco 49ers.\n",
            "The final answer: San Francisco 49ers.\n"
          ]
        }
      ]
    },
    {
      "cell_type": "code",
      "source": [
        "#@title VertexAI: code-bison to generate code.\n",
        "def build_code_generator():\n",
        "  code_bison_llm = VertexAI(model_name=\"code-bison\")\n",
        "  template = \"Question: {question}\\n\\nAnswer: Write python code that answers the above question.\"\n",
        "  prompt = PromptTemplate(template=template, input_variables=[\"question\"])\n",
        "  return LLMChain(prompt=prompt, llm=code_bison_llm)\n",
        "question = \"Write a python function that returns the nth fibonacci number?\"\n",
        "result = build_code_generator().run(question)\n",
        "print(result)"
      ],
      "metadata": {
        "cellView": "form",
        "id": "2_0Mmg3paDOv",
        "outputId": "4fa1e29d-cfe7-4a89-b495-08e91e45c453",
        "colab": {
          "base_uri": "https://localhost:8080/"
        }
      },
      "execution_count": 42,
      "outputs": [
        {
          "output_type": "stream",
          "name": "stdout",
          "text": [
            "```python\n",
            "def fibonacci(n):\r\n",
            "    if n == 0:\r\n",
            "        return 0\r\n",
            "    elif n == 1:\r\n",
            "        return 1\r\n",
            "    else:\r\n",
            "        return fibonacci(n - 1) + fibonacci(n - 2)\n",
            "```\n"
          ]
        }
      ]
    },
    {
      "cell_type": "code",
      "source": [
        "#@title Load some financial data for retrieval-augmentation.\n",
        "\n",
        "def build_qa_bot(llm, urls):\n",
        "  loader = WebBaseLoader(urls)\n",
        "  index = VectorstoreIndexCreator(\n",
        "          embedding=SentenceTransformerEmbeddings(model_name=\"all-MiniLM-L6-v2\"),\n",
        "          text_splitter=RecursiveCharacterTextSplitter(\n",
        "              chunk_size=1000,\n",
        "              chunk_overlap=0,\n",
        "              separators=[\" \", \",\", \"\\n\"])).from_loaders([loader])\n",
        "\n",
        "  return RetrievalQA.from_chain_type(llm=llm, chain_type=\"stuff\",\n",
        "                                      retriever=index.vectorstore.as_retriever(),\n",
        "                                      input_key=\"question\")\n",
        "\n",
        "ask_fundrise = build_qa_bot(\n",
        "    llm=llm,\n",
        "    urls=[\"https://www.schroders.com/en/global/individual/insights/quarterly-markets-review-q1-2023/\", 'https://fundrise.com/education/q1-2023-performance-update', ])\n"
      ],
      "metadata": {
        "id": "8gx_FIDfSVP9",
        "cellView": "form"
      },
      "execution_count": 55,
      "outputs": []
    },
    {
      "cell_type": "code",
      "source": [
        "#@title Retrieval-augmented QA\n",
        "\n",
        "ask_fundrise(\"What is the outlook for Q1 2023?\")"
      ],
      "metadata": {
        "id": "evHDF8bhTKg7",
        "outputId": "8d3bac6b-f349-43d1-99d3-2c5748652698",
        "colab": {
          "base_uri": "https://localhost:8080/"
        }
      },
      "execution_count": 57,
      "outputs": [
        {
          "output_type": "execute_result",
          "data": {
            "text/plain": [
              "{'question': 'What is the outlook for Q1 2023?',\n",
              " 'result': 'The outlook for Q1 2023 is positive, with global equities gaining and growth stocks outperforming value. In fixed income, government bond yields fell (meaning prices rose).'}"
            ]
          },
          "metadata": {},
          "execution_count": 57
        }
      ]
    },
    {
      "cell_type": "code",
      "source": [
        "ask_fundrise(\"Where should I invest my money?\")"
      ],
      "metadata": {
        "colab": {
          "base_uri": "https://localhost:8080/"
        },
        "id": "8WIHO3xqQFFv",
        "outputId": "3a69d1a0-1da3-4cb2-df60-3b15764df667"
      },
      "execution_count": 58,
      "outputs": [
        {
          "output_type": "execute_result",
          "data": {
            "text/plain": [
              "{'question': 'Where should I invest my money?',\n",
              " 'result': 'The article is about the performance of different asset classes in Q1 2023. It is not a recommendation for where to invest your money.'}"
            ]
          },
          "metadata": {},
          "execution_count": 58
        }
      ]
    },
    {
      "cell_type": "code",
      "source": [
        "ask_fundrise(\"Which asset class performed the best?\")"
      ],
      "metadata": {
        "colab": {
          "base_uri": "https://localhost:8080/"
        },
        "id": "PEoS1CYaQFLN",
        "outputId": "bf3d22dc-b636-4a9a-d79d-6993c2c61154"
      },
      "execution_count": 59,
      "outputs": [
        {
          "output_type": "execute_result",
          "data": {
            "text/plain": [
              "{'question': 'Which asset class performed the best?',\n",
              " 'result': 'The best performing asset class was equities.'}"
            ]
          },
          "metadata": {},
          "execution_count": 59
        }
      ]
    },
    {
      "cell_type": "code",
      "source": [
        "ask_fundrise(\"What is a reason to not invest in equities?\")"
      ],
      "metadata": {
        "colab": {
          "base_uri": "https://localhost:8080/"
        },
        "id": "pxqw153kPt0u",
        "outputId": "e6a1c14c-1ab0-4345-e873-000891e50688"
      },
      "execution_count": 60,
      "outputs": [
        {
          "output_type": "execute_result",
          "data": {
            "text/plain": [
              "{'question': 'What is a reason to not invest in equities?',\n",
              " 'result': 'The value of investments and the income from them may go down as well as up and investors may not get back the amounts originally invested.'}"
            ]
          },
          "metadata": {},
          "execution_count": 60
        }
      ]
    },
    {
      "cell_type": "code",
      "source": [
        "ask_fundrise(\"What is a reason to invest in something other than equities?\")"
      ],
      "metadata": {
        "colab": {
          "base_uri": "https://localhost:8080/"
        },
        "id": "SS1GxU4kPt4r",
        "outputId": "6190ec37-94b3-4fc4-8f73-3217f207e910"
      },
      "execution_count": 61,
      "outputs": [
        {
          "output_type": "execute_result",
          "data": {
            "text/plain": [
              "{'question': 'What is a reason to invest in something other than equities?',\n",
              " 'result': 'Convertibles protected well from losses in February and again during the days when liquidity in the financial sector dried up.'}"
            ]
          },
          "metadata": {},
          "execution_count": 61
        }
      ]
    },
    {
      "cell_type": "code",
      "source": [
        "ask_fundrise(\"Tell me about SVB?\")"
      ],
      "metadata": {
        "id": "Ndf-xQS6ibjY",
        "outputId": "b59a3350-6d33-479e-f7cc-b8e64100f70c",
        "colab": {
          "base_uri": "https://localhost:8080/"
        }
      },
      "execution_count": 62,
      "outputs": [
        {
          "output_type": "execute_result",
          "data": {
            "text/plain": [
              "{'question': 'Tell me about SVB?',\n",
              " 'result': 'Silicon Valley Bank (SVB) is a US lender that collapsed in March.'}"
            ]
          },
          "metadata": {},
          "execution_count": 62
        }
      ]
    }
  ]
}
