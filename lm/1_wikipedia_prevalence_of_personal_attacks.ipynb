{
  "nbformat": 4,
  "nbformat_minor": 0,
  "metadata": {
    "colab": {
      "provenance": []
    },
    "kernelspec": {
      "name": "python3",
      "display_name": "Python 3"
    },
    "language_info": {
      "name": "python"
    }
  },
  "cells": [
    {
      "cell_type": "code",
      "execution_count": 34,
      "metadata": {
        "colab": {
          "base_uri": "https://localhost:8080/"
        },
        "cellView": "form",
        "id": "vEqMP3WsTFhS",
        "outputId": "2e2f5882-2abd-4d1a-c689-6df5ea3cfdae"
      },
      "outputs": [
        {
          "output_type": "stream",
          "name": "stdout",
          "text": [
            "Successfully downloaded 115864 comments and 1365217 annotations.\n",
            "[TODO]: explore comments and annotations.\n"
          ]
        }
      ],
      "source": [
        "#@title Download dataset of personal attacks from the [wiki detox datasets](https://meta.wikimedia.org/wiki/Research:Detox/Data_Release).\n",
        "\n",
        "import pandas as pd\n",
        "import urllib\n",
        "from sklearn.pipeline import Pipeline\n",
        "from sklearn.feature_extraction.text import CountVectorizer\n",
        "from sklearn.feature_extraction.text import TfidfTransformer\n",
        "from sklearn.linear_model import LogisticRegression\n",
        "from sklearn.metrics import roc_auc_score\n",
        "\n",
        "# download annotated comments and annotations\n",
        "\n",
        "ANNOTATED_COMMENTS_URL = 'https://ndownloader.figshare.com/files/7554634'\n",
        "ANNOTATIONS_URL = 'https://ndownloader.figshare.com/files/7554637'\n",
        "\n",
        "def download_file(url, fname):\n",
        "    urllib.request.urlretrieve(url, fname)\n",
        "\n",
        "download_file(ANNOTATED_COMMENTS_URL, 'attack_annotated_comments.tsv')\n",
        "download_file(ANNOTATIONS_URL, 'attack_annotations.tsv')\n",
        "comments = pd.read_csv('attack_annotated_comments.tsv', sep = '\\t', index_col = 0)\n",
        "annotations = pd.read_csv('attack_annotations.tsv',  sep = '\\t')\n",
        "print(f\"Successfully downloaded {len(comments)} comments and {len(annotations)} annotations.\")\n",
        "print(\"[TODO]: explore comments and annotations.\")"
      ]
    },
    {
      "cell_type": "code",
      "source": [
        "#@title Build a labeled dataset of personal attacks, from annotations.\n",
        "# labels a comment as an attack if the majority of annotators did so\n",
        "labels = annotations.groupby('rev_id')['attack'].mean() > 0.5\n",
        "# join labels and comments\n",
        "comments['attack'] = labels\n",
        "# remove newline and tab tokens\n",
        "comments['comment'] = comments['comment'].apply(lambda x: x.replace(\"NEWLINE_TOKEN\", \" \"))\n",
        "comments['comment'] = comments['comment'].apply(lambda x: x.replace(\"TAB_TOKEN\", \" \"))\n",
        "print(f\"Built a labeled dataset of attacks, based on majority annotations. Sample of attacks:\")\n",
        "comments.query('attack')['comment'].head()"
      ],
      "metadata": {
        "colab": {
          "base_uri": "https://localhost:8080/"
        },
        "cellView": "form",
        "id": "C6ZQp2W0TTaY",
        "outputId": "2e4eefe4-48a4-44d5-804f-da4a8645e36a"
      },
      "execution_count": 35,
      "outputs": [
        {
          "output_type": "stream",
          "name": "stdout",
          "text": [
            "Built a labeled dataset of attacks, based on majority annotations. Sample of attacks:\n"
          ]
        },
        {
          "output_type": "execute_result",
          "data": {
            "text/plain": [
              "rev_id\n",
              "801279             Iraq is not good  ===  ===  USA is bad   \n",
              "2702703      ____ fuck off you little asshole. If you wan...\n",
              "4632658         i have a dick, its bigger than yours! hahaha\n",
              "6545332      == renault ==  you sad little bpy for drivin...\n",
              "6545351      == renault ==  you sad little bo for driving...\n",
              "Name: comment, dtype: object"
            ]
          },
          "metadata": {},
          "execution_count": 35
        }
      ]
    },
    {
      "cell_type": "code",
      "source": [
        "#@title Train a simple text classifier.\n",
        "\n",
        "train_comments = comments.query(\"split=='train'\")\n",
        "test_comments = comments.query(\"split=='test'\")\n",
        "\n",
        "clf = Pipeline([\n",
        "    ('vect', CountVectorizer(max_features = 10000, ngram_range = (1,2))),\n",
        "    ('tfidf', TfidfTransformer(norm = 'l2')),\n",
        "    ('clf', LogisticRegression()),\n",
        "])\n",
        "clf = clf.fit(train_comments['comment'], train_comments['attack'])\n",
        "auc = roc_auc_score(test_comments['attack'], clf.predict_proba(test_comments['comment'])[:, 1])\n",
        "print('Trained a binary classifier, with test set ROC AUC: %.3f' %auc)\n",
        "print(\"[TODO]: What do these things mean? ngram_range, norm, confusion matrix, AUC\")"
      ],
      "metadata": {
        "colab": {
          "base_uri": "https://localhost:8080/"
        },
        "cellView": "form",
        "id": "-bcuQ8QEThJd",
        "outputId": "4b85dc6e-c11e-4a19-c7a0-6f5e9abfb5e8"
      },
      "execution_count": 13,
      "outputs": [
        {
          "output_type": "stream",
          "name": "stdout",
          "text": [
            "Trained a binary classifier, with test set ROC AUC: 0.957\n",
            "[TODO]: What do these things mean? ngram_range, norm, confusion matrix, AUC\n"
          ]
        }
      ]
    },
    {
      "cell_type": "code",
      "source": [
        "#@title Testing the classifier on some new text.\n",
        "nice_comment = \"This is a good review!\" #@param {type: \"raw\"}\n",
        "nasty_comment = \"You are stupid and an idiot!\" #@param {type: \"raw\"}\n",
        "clf.predict([nice_comment, nasty_comment])"
      ],
      "metadata": {
        "colab": {
          "base_uri": "https://localhost:8080/"
        },
        "id": "3gUq0YJ5Tp3f",
        "outputId": "8b710b91-c9b5-4dc2-f71b-f0632d12fbd1"
      },
      "execution_count": 14,
      "outputs": [
        {
          "output_type": "execute_result",
          "data": {
            "text/plain": [
              "array([False,  True])"
            ]
          },
          "metadata": {},
          "execution_count": 14
        }
      ]
    },
    {
      "cell_type": "code",
      "source": [
        "#@title Download full unlabeled user-talk and article-talk 2004 corpus.\n",
        "import os\n",
        "import re\n",
        "from scipy.stats import bernoulli\n",
        "import seaborn as sns\n",
        "import matplotlib.pyplot as plt\n",
        "\n",
        "# download and untar data\n",
        "USER_TALK_CORPUS_2004_URL = 'https://ndownloader.figshare.com/files/6982061'\n",
        "ARTICLE_TALK_CORPUS_2004_URL = 'https://ndownloader.figshare.com/files/7038050'\n",
        "\n",
        "download_file(USER_TALK_CORPUS_2004_URL, 'comments_user_2004.tar.gz')\n",
        "download_file(ARTICLE_TALK_CORPUS_2004_URL,  'comments_article_2004.tar.gz')\n",
        "\n",
        "os.system('tar -xzf comments_user_2004.tar.gz')\n",
        "os.system('tar -xzf comments_article_2004.tar.gz')\n",
        "\n",
        "# helper for collecting a sample of comments for a given ns and year from\n",
        "def load_no_bot_no_admin(ns, year, prob = 0.1):\n",
        "    dfs = []\n",
        "    data_dir = \"comments_%s_%d\" % (ns, year)\n",
        "    for _, _, filenames in os.walk(data_dir):\n",
        "        for filename in filenames:\n",
        "            if re.match(\"chunk_\\d*.tsv\", filename):\n",
        "                df = pd.read_csv(os.path.join(data_dir, filename), sep = \"\\t\")\n",
        "                df['include'] = bernoulli.rvs(prob, size=df.shape[0])\n",
        "                df = df.query(\"bot == 0 and admin == 0 and include == 1\")\n",
        "                dfs.append(df)\n",
        "    sample = pd.concat(dfs)\n",
        "    sample['ns'] = ns\n",
        "    sample['year'] = year\n",
        "    return sample\n",
        "\n",
        "# collect a random sample of comments from 2004 for each namespace\n",
        "corpus_user = load_no_bot_no_admin('user', 2004)\n",
        "corpus_article = load_no_bot_no_admin('article', 2004)\n",
        "corpus = pd.concat([corpus_user, corpus_article])\n",
        "\n",
        "print(\"Downloaded random sample of comments from each corpus: user and article\")\n",
        "print(\"[TODO]: Explore the data\")"
      ],
      "metadata": {
        "colab": {
          "base_uri": "https://localhost:8080/"
        },
        "cellView": "form",
        "id": "pAuFw8ItUS68",
        "outputId": "5077adee-d133-414b-aee2-f788bd2041ed"
      },
      "execution_count": 17,
      "outputs": [
        {
          "output_type": "stream",
          "name": "stdout",
          "text": [
            "Downloaded random sample of comments from each corpus: user and article\n",
            "[TODO]: Explore the data\n"
          ]
        }
      ]
    },
    {
      "cell_type": "code",
      "source": [
        "#@title Use our classifier to label these two datasets.\n",
        "corpus['comment'] = corpus['comment'].apply(lambda x: x.replace(\"NEWLINE_TOKEN\", \" \"))\n",
        "corpus['comment'] = corpus['comment'].apply(lambda x: x.replace(\"TAB_TOKEN\", \" \"))\n",
        "corpus['attack'] = clf.predict_proba(corpus['comment'])[:,1] > 0.425 # why this threshold?\n",
        "corpus.query(\"attack\")[\"comment\"].head()"
      ],
      "metadata": {
        "colab": {
          "base_uri": "https://localhost:8080/"
        },
        "cellView": "form",
        "id": "2pcNRwWHhpab",
        "outputId": "d21b7a81-46ae-455f-890f-522d54b62b44"
      },
      "execution_count": 25,
      "outputs": [
        {
          "output_type": "execute_result",
          "data": {
            "text/plain": [
              "1361    \"**You, dude. You're the guy upset at vandals ...\n",
              "3025       Please stop supporting  for adminship. He m...\n",
              "6833                  You're welcome! You deserve it.    \n",
              "8358         \"  You're welcome, and enjoy your break.   \"\n",
              "8524                                   == you'r a dork ==\n",
              "Name: comment, dtype: object"
            ]
          },
          "metadata": {},
          "execution_count": 25
        }
      ]
    },
    {
      "cell_type": "code",
      "source": [
        "corpus.query(\"attack\")[\"comment\"].iloc[15]"
      ],
      "metadata": {
        "colab": {
          "base_uri": "https://localhost:8080/",
          "height": 107
        },
        "id": "E3h0eAfti1t-",
        "outputId": "8ee3af6a-821b-4f5e-f952-8fff103a0215"
      },
      "execution_count": 32,
      "outputs": [
        {
          "output_type": "execute_result",
          "data": {
            "text/plain": [
              "'\"  ==Crazy Shit== *People have bent over backwards to accomodate you, mostly out of a pure concern for fairness and justice. You have eroded all the good will left in my body. Any more crap out of you, and I will \"\"take steps\"\". Better listen up good, because I\\'m one the oldest \"\"old hands\"\" around here and I know how to work the system. Don\\'t get me riled up against you, or I will force you out!! (A word to the wise is sufficient.) Uncle Ed   **No matter how old you are, you don\\'t have the authority to force anyone out unilaterally. This rhetoric just once again shows how unfit you are for sysophood. Wik   **Well; who would have thought we could ever; agree? Ed Poor is totally unfit. \"'"
            ],
            "application/vnd.google.colaboratory.intrinsic+json": {
              "type": "string"
            }
          },
          "metadata": {},
          "execution_count": 32
        }
      ]
    },
    {
      "cell_type": "code",
      "source": [
        "#@title Which corpus has more prevalence of personal attacks - user or article?\n",
        "sns.pointplot(data = corpus, x = 'ns', y = 'attack')\n",
        "plt.ylabel(\"Personal attack fraction\")\n",
        "plt.xlabel(\"Dataset type\")"
      ],
      "metadata": {
        "colab": {
          "base_uri": "https://localhost:8080/",
          "height": 473
        },
        "cellView": "form",
        "id": "ZezSoRSzUsXX",
        "outputId": "34e0edbe-0819-4968-a2de-b441fdb8eb76"
      },
      "execution_count": 33,
      "outputs": [
        {
          "output_type": "execute_result",
          "data": {
            "text/plain": [
              "Text(0.5, 0, 'Dataset type')"
            ]
          },
          "metadata": {},
          "execution_count": 33
        },
        {
          "output_type": "display_data",
          "data": {
            "text/plain": [
              "<Figure size 640x480 with 1 Axes>"
            ],
            "image/png": "[encoded data removed]"
          },
          "metadata": {}
        }
      ]
    },
    {
      "cell_type": "markdown",
      "source": [
        "# Assignments\n",
        "\n",
        "1. Use pre-trained Bertclassifier for personal attacks (keras_nlp).\n",
        "2. Explore the word embeddings of top attack words."
      ],
      "metadata": {
        "id": "U_BLZgCDjzrO"
      }
    }
  ]
}