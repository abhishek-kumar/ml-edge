{
 "cells": [
  {
   "cell_type": "code",
   "execution_count": 47,
   "metadata": {},
   "outputs": [],
   "source": [
    "import tensorflow as tf\n",
    "from tensorflow.keras.preprocessing.image import (\n",
    "    ImageDataGenerator, \n",
    "    load_img,\n",
    "    img_to_array,\n",
    "    DirectoryIterator\n",
    ")\n",
    "from keras.applications.resnet50 import ResNet50, preprocess_input\n",
    "import PIL\n",
    "\n",
    "import numpy as np\n",
    "import pathlib\n",
    "\n",
    "from typing import Dict"
   ]
  },
  {
   "cell_type": "markdown",
   "metadata": {},
   "source": [
    "First, download the pre-trained ResNet 50 model from TensorFlow Hub"
   ]
  },
  {
   "cell_type": "code",
   "execution_count": 31,
   "metadata": {},
   "outputs": [],
   "source": [
    "base_model = ResNet50(\n",
    "    include_top=False,\n",
    "    weights=\"imagenet\",\n",
    "    input_shape=(224, 224, 3),\n",
    ")"
   ]
  },
  {
   "cell_type": "markdown",
   "metadata": {},
   "source": [
    "Then, figure out how many celebrities we have (just the number of directories inside the `Celebrity Faces Dataset`)"
   ]
  },
  {
   "cell_type": "code",
   "execution_count": 32,
   "metadata": {},
   "outputs": [
    {
     "name": "stdout",
     "output_type": "stream",
     "text": [
      "There are 17 celebrities in the dataset.\n"
     ]
    }
   ],
   "source": [
    "path_to_celebrity_dataset = pathlib.Path(\"ml_project_4_face_detection/backend/Celebrity Faces Dataset/\")\n",
    "assert path_to_celebrity_dataset.exists(), f\"Could not find {path_to_celebrity_dataset}.\"\n",
    "number_celebrities = len(list(path_to_celebrity_dataset.iterdir()))\n",
    "print(f\"There are {number_celebrities} celebrities in the dataset.\")"
   ]
  },
  {
   "cell_type": "markdown",
   "metadata": {},
   "source": [
    "Now, we'll instantiate a model on top of our pre-trained ResNet 50 model."
   ]
  },
  {
   "cell_type": "code",
   "execution_count": 33,
   "metadata": {},
   "outputs": [
    {
     "name": "stdout",
     "output_type": "stream",
     "text": [
      "Model: \"sequential_2\"\n",
      "_________________________________________________________________\n",
      " Layer (type)                Output Shape              Param #   \n",
      "=================================================================\n",
      " resnet50 (Functional)       (None, 7, 7, 2048)        23587712  \n",
      "                                                                 \n",
      " global_average_pooling2d_2  (None, 2048)              0         \n",
      "  (GlobalAveragePooling2D)                                       \n",
      "                                                                 \n",
      " dense_2 (Dense)             (None, 17)                34833     \n",
      "                                                                 \n",
      "=================================================================\n",
      "Total params: 23622545 (90.11 MB)\n",
      "Trainable params: 23569425 (89.91 MB)\n",
      "Non-trainable params: 53120 (207.50 KB)\n",
      "_________________________________________________________________\n"
     ]
    }
   ],
   "source": [
    "model = tf.keras.Sequential([\n",
    "    base_model,\n",
    "    tf.keras.layers.GlobalAveragePooling2D(),\n",
    "    tf.keras.layers.Dense(number_celebrities, activation=\"softmax\"),\n",
    "])\n",
    "model.summary()"
   ]
  },
  {
   "cell_type": "markdown",
   "metadata": {},
   "source": [
    "Now we'll use TensorFlow utilities (`ImageDataGenerator`) to load and preprocess the celebrity images"
   ]
  },
  {
   "cell_type": "code",
   "execution_count": 34,
   "metadata": {},
   "outputs": [
    {
     "name": "stdout",
     "output_type": "stream",
     "text": [
      "Found 1800 images belonging to 17 classes.\n"
     ]
    }
   ],
   "source": [
    "target_image_size = (224, 224)\n",
    "\n",
    "training_data_generator = ImageDataGenerator(\n",
    "    preprocessing_function=preprocess_input,\n",
    "    shear_range=0.2,\n",
    "    zoom_range=0.2,\n",
    "    horizontal_flip=True,\n",
    ")\n",
    "\n",
    "training_data_streamer: DirectoryIterator = training_data_generator.flow_from_directory(\n",
    "    path_to_celebrity_dataset,\n",
    "    target_size=target_image_size,\n",
    "    batch_size=32,\n",
    "    class_mode=\"categorical\",\n",
    ")\n"
   ]
  },
  {
   "cell_type": "markdown",
   "metadata": {},
   "source": [
    "Now we'll compile our model, using the Adam optimizer, and the categorical crossentropy loss function"
   ]
  },
  {
   "cell_type": "code",
   "execution_count": 35,
   "metadata": {},
   "outputs": [
    {
     "name": "stderr",
     "output_type": "stream",
     "text": [
      "WARNING:absl:At this time, the v2.11+ optimizer `tf.keras.optimizers.Adam` runs slowly on M1/M2 Macs, please use the legacy Keras optimizer instead, located at `tf.keras.optimizers.legacy.Adam`.\n",
      "WARNING:absl:There is a known slowdown when using v2.11+ Keras optimizers on M1/M2 Macs. Falling back to the legacy Keras optimizer, i.e., `tf.keras.optimizers.legacy.Adam`.\n"
     ]
    }
   ],
   "source": [
    "model.compile(\n",
    "    optimizer=tf.keras.optimizers.Adam(learning_rate=1e-4),\n",
    "    loss=tf.keras.losses.CategoricalCrossentropy(),\n",
    "    metrics=[\"accuracy\"],\n",
    ")"
   ]
  },
  {
   "cell_type": "code",
   "execution_count": 36,
   "metadata": {},
   "outputs": [
    {
     "name": "stdout",
     "output_type": "stream",
     "text": [
      "Epoch 1/10\n"
     ]
    },
    {
     "name": "stderr",
     "output_type": "stream",
     "text": [
      "2023-07-22 14:42:37.837185: I tensorflow/core/grappler/optimizers/custom_graph_optimizer_registry.cc:114] Plugin optimizer for device_type GPU is enabled.\n"
     ]
    },
    {
     "name": "stdout",
     "output_type": "stream",
     "text": [
      "57/57 [==============================] - 16s 218ms/step - loss: 1.6877 - accuracy: 0.4633\n",
      "Epoch 2/10\n",
      "57/57 [==============================] - 11s 192ms/step - loss: 0.4549 - accuracy: 0.8722\n",
      "Epoch 3/10\n",
      "57/57 [==============================] - 11s 193ms/step - loss: 0.1945 - accuracy: 0.9500\n",
      "Epoch 4/10\n",
      "57/57 [==============================] - 11s 192ms/step - loss: 0.0925 - accuracy: 0.9794\n",
      "Epoch 5/10\n",
      "57/57 [==============================] - 11s 195ms/step - loss: 0.0513 - accuracy: 0.9906\n",
      "Epoch 6/10\n",
      "57/57 [==============================] - 11s 190ms/step - loss: 0.0438 - accuracy: 0.9906\n",
      "Epoch 7/10\n",
      "57/57 [==============================] - 11s 190ms/step - loss: 0.0366 - accuracy: 0.9956\n",
      "Epoch 8/10\n",
      "57/57 [==============================] - 11s 184ms/step - loss: 0.0228 - accuracy: 0.9972\n",
      "Epoch 9/10\n",
      "57/57 [==============================] - 10s 181ms/step - loss: 0.0130 - accuracy: 0.9983\n",
      "Epoch 10/10\n",
      "57/57 [==============================] - 11s 186ms/step - loss: 0.0203 - accuracy: 0.9961\n"
     ]
    }
   ],
   "source": [
    "training_epochs = 10\n",
    "\n",
    "history = model.fit(\n",
    "    training_data_streamer,\n",
    "    epochs=training_epochs,\n",
    ")"
   ]
  },
  {
   "cell_type": "markdown",
   "metadata": {},
   "source": [
    "Now, we use this fine-tuned model to make predictions:"
   ]
  },
  {
   "cell_type": "code",
   "execution_count": 49,
   "metadata": {},
   "outputs": [
    {
     "name": "stdout",
     "output_type": "stream",
     "text": [
      "1/1 [==============================] - 0s 29ms/step\n",
      "Predicted celebrity: Will Smith\n"
     ]
    }
   ],
   "source": [
    "def load_image_from_file(image_path: pathlib.Path, target_image_size=target_image_size) -> PIL.Image:\n",
    "    return load_img(image_path, target_size=target_image_size)\n",
    "\n",
    "def get_predicted_celebrity_name_from_idx(data_streamer: DirectoryIterator, predicted_idx: int) -> str:\n",
    "    \"\"\"\n",
    "    The mapping from celebrity name to index in the data streamer needs to be\n",
    "    inverted so that we can get the name of the predicted celebrity, given the\n",
    "    index\n",
    "    \"\"\"\n",
    "    idx_to_celebrity_name = {v: k for k, v in data_streamer.class_indices.items()}\n",
    "    return idx_to_celebrity_name.get(predicted_idx)\n",
    "\n",
    "def make_prediction(image: PIL.Image, model: tf.keras.Model, data_streamer: DirectoryIterator) -> str:\n",
    "    example_image_array: PIL.Image  = img_to_array(image)\n",
    "    example_image_array = np.expand_dims(example_image_array, axis=0)\n",
    "    example_image_array = preprocess_input(example_image_array)\n",
    "\n",
    "    prediction_probabilities = model.predict(example_image_array)\n",
    "\n",
    "    predicted_celebrity_index = np.argmax(prediction_probabilities)\n",
    "\n",
    "    return get_predicted_celebrity_name_from_idx(data_streamer, predicted_celebrity_index)\n",
    "\n",
    "\n",
    "example_image = load_image_from_file(\n",
    "    image_path=path_to_celebrity_dataset / \"Will Smith/001_beebcee2.jpg\"\n",
    ")\n",
    "\n",
    "predicted_celebrity = make_prediction(example_image, model, training_data_streamer)\n",
    "print(f\"Predicted celebrity: {predicted_celebrity}\")"
   ]
  },
  {
   "cell_type": "code",
   "execution_count": null,
   "metadata": {},
   "outputs": [],
   "source": []
  }
 ],
 "metadata": {
  "kernelspec": {
   "display_name": "backend-7DY3twuc-py3.11",
   "language": "python",
   "name": "python3"
  },
  "language_info": {
   "codemirror_mode": {
    "name": "ipython",
    "version": 3
   },
   "file_extension": ".py",
   "mimetype": "text/x-python",
   "name": "python",
   "nbconvert_exporter": "python",
   "pygments_lexer": "ipython3",
   "version": "3.11.4"
  },
  "orig_nbformat": 4
 },
 "nbformat": 4,
 "nbformat_minor": 2
}
