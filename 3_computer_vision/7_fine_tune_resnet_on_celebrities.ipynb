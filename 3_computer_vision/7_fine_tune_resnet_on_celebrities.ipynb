{
 "cells": [
  {
   "cell_type": "code",
   "execution_count": 29,
   "metadata": {},
   "outputs": [],
   "source": [
    "import tensorflow as tf\n",
    "from tensorflow.keras.preprocessing.image import (\n",
    "    ImageDataGenerator, \n",
    "    DirectoryIterator\n",
    ")\n",
    "from google.cloud import aiplatform, storage\n",
    "from keras.applications.resnet50 import ResNet50, preprocess_input\n",
    "\n",
    "import pathlib\n",
    "\n",
    "import sys\n",
    "from loguru import logger\n",
    "\n",
    "sys.path.insert(0, \"ml_project_4_face_detection/backend\")\n",
    "import recognition\n",
    "import json"
   ]
  },
  {
   "cell_type": "code",
   "execution_count": 18,
   "metadata": {},
   "outputs": [],
   "source": [
    "PROJECT_ID=\"aiedge-masterclass\""
   ]
  },
  {
   "cell_type": "code",
   "execution_count": 6,
   "metadata": {},
   "outputs": [],
   "source": [
    "path_to_saved_model = pathlib.Path(\"ml_project_4_face_detection/backend/model\")\n",
    "\n",
    "train=False\n",
    "if not train:\n",
    "    assert path_to_saved_model.exists(), f\"Could not find {path_to_saved_model}\"\n",
    "    assert path_to_saved_model.is_dir(), f\"{path_to_saved_model} is not a directory\"\n",
    "    model = recognition.load_local_model(path_to_saved_model)"
   ]
  },
  {
   "cell_type": "markdown",
   "metadata": {},
   "source": [
    "First, download the pre-trained ResNet 50 model from TensorFlow Hub"
   ]
  },
  {
   "cell_type": "code",
   "execution_count": 7,
   "metadata": {},
   "outputs": [],
   "source": [
    "base_model = ResNet50(\n",
    "    include_top=False,\n",
    "    weights=\"imagenet\",\n",
    "    input_shape=(*recognition.DEFAULT_IMAGE_SIZE, 3),\n",
    ")"
   ]
  },
  {
   "cell_type": "markdown",
   "metadata": {},
   "source": [
    "Then, figure out how many celebrities we have (just the number of directories inside the `Celebrity Faces Dataset`)"
   ]
  },
  {
   "cell_type": "code",
   "execution_count": 8,
   "metadata": {},
   "outputs": [
    {
     "name": "stdout",
     "output_type": "stream",
     "text": [
      "There are 17 celebrities in the dataset.\n"
     ]
    }
   ],
   "source": [
    "path_to_celebrity_dataset = pathlib.Path(\"ml_project_4_face_detection/backend/Celebrity Faces Dataset/\")\n",
    "assert path_to_celebrity_dataset.exists(), f\"Could not find {path_to_celebrity_dataset}.\"\n",
    "number_celebrities = len(list(path_to_celebrity_dataset.iterdir()))\n",
    "print(f\"There are {number_celebrities} celebrities in the dataset.\")"
   ]
  },
  {
   "cell_type": "markdown",
   "metadata": {},
   "source": [
    "Now, we'll instantiate a model on top of our pre-trained ResNet 50 model."
   ]
  },
  {
   "cell_type": "code",
   "execution_count": 9,
   "metadata": {},
   "outputs": [
    {
     "name": "stdout",
     "output_type": "stream",
     "text": [
      "Model: \"sequential\"\n",
      "_________________________________________________________________\n",
      " Layer (type)                Output Shape              Param #   \n",
      "=================================================================\n",
      " resnet50 (Functional)       (None, 4, 4, 2048)        23587712  \n",
      "                                                                 \n",
      " global_average_pooling2d (  (None, 2048)              0         \n",
      " GlobalAveragePooling2D)                                         \n",
      "                                                                 \n",
      " dense (Dense)               (None, 17)                34833     \n",
      "                                                                 \n",
      "=================================================================\n",
      "Total params: 23622545 (90.11 MB)\n",
      "Trainable params: 23569425 (89.91 MB)\n",
      "Non-trainable params: 53120 (207.50 KB)\n",
      "_________________________________________________________________\n"
     ]
    }
   ],
   "source": [
    "model = tf.keras.Sequential([\n",
    "    base_model,\n",
    "    tf.keras.layers.GlobalAveragePooling2D(),\n",
    "    tf.keras.layers.Dense(number_celebrities, activation=\"softmax\"),\n",
    "])\n",
    "model.summary()"
   ]
  },
  {
   "cell_type": "markdown",
   "metadata": {},
   "source": [
    "Now we'll use TensorFlow utilities (`ImageDataGenerator`) to load and preprocess the celebrity images"
   ]
  },
  {
   "cell_type": "code",
   "execution_count": 10,
   "metadata": {},
   "outputs": [
    {
     "name": "stdout",
     "output_type": "stream",
     "text": [
      "Found 1800 images belonging to 17 classes.\n"
     ]
    }
   ],
   "source": [
    "target_image_size = recognition.DEFAULT_IMAGE_SIZE\n",
    "\n",
    "training_data_generator = ImageDataGenerator(\n",
    "    preprocessing_function=preprocess_input,\n",
    "    shear_range=0.2,\n",
    "    zoom_range=0.2,\n",
    "    horizontal_flip=True,\n",
    ")\n",
    "\n",
    "training_data_streamer: DirectoryIterator = training_data_generator.flow_from_directory(\n",
    "    path_to_celebrity_dataset,\n",
    "    target_size=target_image_size,\n",
    "    batch_size=32,\n",
    "    class_mode=\"categorical\",\n",
    ")\n"
   ]
  },
  {
   "cell_type": "markdown",
   "metadata": {},
   "source": [
    "Now we'll compile our model, using the Adam optimizer, and the categorical crossentropy loss function"
   ]
  },
  {
   "cell_type": "code",
   "execution_count": 11,
   "metadata": {},
   "outputs": [
    {
     "name": "stderr",
     "output_type": "stream",
     "text": [
      "WARNING:absl:At this time, the v2.11+ optimizer `tf.keras.optimizers.Adam` runs slowly on M1/M2 Macs, please use the legacy Keras optimizer instead, located at `tf.keras.optimizers.legacy.Adam`.\n",
      "WARNING:absl:There is a known slowdown when using v2.11+ Keras optimizers on M1/M2 Macs. Falling back to the legacy Keras optimizer, i.e., `tf.keras.optimizers.legacy.Adam`.\n"
     ]
    }
   ],
   "source": [
    "model.compile(\n",
    "    optimizer=tf.keras.optimizers.Adam(learning_rate=1e-4),\n",
    "    loss=tf.keras.losses.CategoricalCrossentropy(),\n",
    "    metrics=[\"accuracy\"],\n",
    ")"
   ]
  },
  {
   "cell_type": "code",
   "execution_count": 12,
   "metadata": {},
   "outputs": [
    {
     "name": "stdout",
     "output_type": "stream",
     "text": [
      "Epoch 1/10\n"
     ]
    },
    {
     "name": "stderr",
     "output_type": "stream",
     "text": [
      "2023-07-27 09:08:43.379097: I tensorflow/core/grappler/optimizers/custom_graph_optimizer_registry.cc:114] Plugin optimizer for device_type GPU is enabled.\n"
     ]
    },
    {
     "name": "stdout",
     "output_type": "stream",
     "text": [
      "57/57 [==============================] - 9s 100ms/step - loss: 2.2308 - accuracy: 0.3167\n",
      "Epoch 2/10\n",
      "57/57 [==============================] - 5s 89ms/step - loss: 0.8652 - accuracy: 0.7361\n",
      "Epoch 3/10\n",
      "57/57 [==============================] - 5s 85ms/step - loss: 0.4845 - accuracy: 0.8600\n",
      "Epoch 4/10\n",
      "57/57 [==============================] - 5s 87ms/step - loss: 0.2701 - accuracy: 0.9306\n",
      "Epoch 5/10\n",
      "57/57 [==============================] - 5s 89ms/step - loss: 0.1541 - accuracy: 0.9650\n",
      "Epoch 6/10\n",
      "57/57 [==============================] - 5s 82ms/step - loss: 0.1087 - accuracy: 0.9722\n",
      "Epoch 7/10\n",
      "57/57 [==============================] - 5s 81ms/step - loss: 0.0726 - accuracy: 0.9867\n",
      "Epoch 8/10\n",
      "57/57 [==============================] - 5s 81ms/step - loss: 0.0868 - accuracy: 0.9761\n",
      "Epoch 9/10\n",
      "57/57 [==============================] - 5s 83ms/step - loss: 0.0642 - accuracy: 0.9850\n",
      "Epoch 10/10\n",
      "57/57 [==============================] - 5s 82ms/step - loss: 0.0545 - accuracy: 0.9850\n"
     ]
    }
   ],
   "source": [
    "training_epochs = 10\n",
    "\n",
    "history = model.fit(\n",
    "    training_data_streamer,\n",
    "    epochs=training_epochs,\n",
    ")"
   ]
  },
  {
   "cell_type": "markdown",
   "metadata": {},
   "source": [
    "Now, we use this fine-tuned model to make predictions:"
   ]
  },
  {
   "cell_type": "code",
   "execution_count": 13,
   "metadata": {},
   "outputs": [
    {
     "name": "stderr",
     "output_type": "stream",
     "text": [
      "\u001b[32m2023-07-27 09:09:35.055\u001b[0m | \u001b[1mINFO    \u001b[0m | \u001b[36mrecognition\u001b[0m:\u001b[36mmake_prediction\u001b[0m:\u001b[36m68\u001b[0m - \u001b[1mInput image: <PIL.Image.Image image mode=RGB size=112x112 at 0x313E083D0>\u001b[0m\n",
      "\u001b[32m2023-07-27 09:09:35.056\u001b[0m | \u001b[1mINFO    \u001b[0m | \u001b[36mrecognition\u001b[0m:\u001b[36mmake_prediction\u001b[0m:\u001b[36m70\u001b[0m - \u001b[1mImage array shape: (112, 112, 3)\u001b[0m\n",
      "\u001b[32m2023-07-27 09:09:35.057\u001b[0m | \u001b[1mINFO    \u001b[0m | \u001b[36mrecognition\u001b[0m:\u001b[36mmake_prediction\u001b[0m:\u001b[36m72\u001b[0m - \u001b[1mAfter expanding dimensions: (1, 112, 112, 3)\u001b[0m\n",
      "\u001b[32m2023-07-27 09:09:35.057\u001b[0m | \u001b[1mINFO    \u001b[0m | \u001b[36mrecognition\u001b[0m:\u001b[36mmake_prediction\u001b[0m:\u001b[36m74\u001b[0m - \u001b[1mAfter preprocessing: (1, 112, 112, 3)\u001b[0m\n",
      "2023-07-27 09:09:35.319027: I tensorflow/core/grappler/optimizers/custom_graph_optimizer_registry.cc:114] Plugin optimizer for device_type GPU is enabled.\n"
     ]
    },
    {
     "name": "stdout",
     "output_type": "stream",
     "text": [
      "1/1 [==============================] - 1s 751ms/step\n"
     ]
    },
    {
     "name": "stderr",
     "output_type": "stream",
     "text": [
      "\u001b[32m2023-07-27 09:09:35.833\u001b[0m | \u001b[1mINFO    \u001b[0m | \u001b[36mrecognition\u001b[0m:\u001b[36mmake_prediction\u001b[0m:\u001b[36m79\u001b[0m - \u001b[1mPredicted celebrity index: 16\u001b[0m\n",
      "\u001b[32m2023-07-27 09:09:35.834\u001b[0m | \u001b[1mINFO    \u001b[0m | \u001b[36mrecognition\u001b[0m:\u001b[36mmake_prediction\u001b[0m:\u001b[36m81\u001b[0m - \u001b[1mUsing idx_to_celebrity_name mapping: {'0': 'Angelina Jolie', '1': 'Brad Pitt', '2': 'Denzel Washington', '3': 'Hugh Jackman', '4': 'Jennifer Lawrence', '5': 'Johnny Depp', '6': 'Kate Winslet', '7': 'Leonardo DiCaprio', '8': 'Megan Fox', '9': 'Natalie Portman', '10': 'Nicole Kidman', '11': 'Robert Downey Jr', '12': 'Sandra Bullock', '13': 'Scarlett Johansson', '14': 'Tom Cruise', '15': 'Tom Hanks', '16': 'Will Smith'}\u001b[0m\n",
      "\u001b[32m2023-07-27 09:09:35.834\u001b[0m | \u001b[1mINFO    \u001b[0m | \u001b[36mrecognition\u001b[0m:\u001b[36mmake_prediction\u001b[0m:\u001b[36m85\u001b[0m - \u001b[1mPredicted celebrity name: Will Smith\u001b[0m\n"
     ]
    },
    {
     "name": "stdout",
     "output_type": "stream",
     "text": [
      "Predicted celebrity: Will Smith\n"
     ]
    }
   ],
   "source": [
    "example_image = recognition.load_image_from_file(\n",
    "    image_path=path_to_celebrity_dataset / \"Will Smith/001_beebcee2.jpg\"\n",
    ")\n",
    "\n",
    "idx_to_celebrity_name = {str(v): k for k, v in training_data_streamer.class_indices.items()}\n",
    "\n",
    "predicted_celebrity = recognition.make_prediction(example_image, model, idx_to_celebrity_name)\n",
    "print(f\"Predicted celebrity: {predicted_celebrity}\")"
   ]
  },
  {
   "cell_type": "markdown",
   "metadata": {},
   "source": [
    "Save our fine-tuned ResNet 50 to a `model` directory in the `backend` folder in the SavedModel format, making sure to attach the index to celebrity name dictionary as an asset inside the model."
   ]
  },
  {
   "cell_type": "code",
   "execution_count": 14,
   "metadata": {},
   "outputs": [
    {
     "name": "stdout",
     "output_type": "stream",
     "text": [
      "INFO:tensorflow:Assets written to: ml_project_4_face_detection/backend/model/assets\n"
     ]
    },
    {
     "name": "stderr",
     "output_type": "stream",
     "text": [
      "INFO:tensorflow:Assets written to: ml_project_4_face_detection/backend/model/assets\n"
     ]
    }
   ],
   "source": [
    "path_to_idx_to_celebrity_mapping = path_to_saved_model.parent / \"idx_to_celebrity_name.json\"\n",
    "with open(path_to_idx_to_celebrity_mapping, 'w') as f:\n",
    "    json.dump(idx_to_celebrity_name, f)\n",
    "asset = tf.saved_model.Asset(path_to_idx_to_celebrity_mapping)\n",
    "\n",
    "model.asset = asset\n",
    "model.save(path_to_saved_model)"
   ]
  },
  {
   "cell_type": "markdown",
   "metadata": {},
   "source": [
    "And here is an example of how you'd load the model back in, along with its dictionary of labels:"
   ]
  },
  {
   "cell_type": "code",
   "execution_count": 15,
   "metadata": {},
   "outputs": [
    {
     "name": "stdout",
     "output_type": "stream",
     "text": [
      "{'0': 'Angelina Jolie', '1': 'Brad Pitt', '2': 'Denzel Washington', '3': 'Hugh Jackman', '4': 'Jennifer Lawrence', '5': 'Johnny Depp', '6': 'Kate Winslet', '7': 'Leonardo DiCaprio', '8': 'Megan Fox', '9': 'Natalie Portman', '10': 'Nicole Kidman', '11': 'Robert Downey Jr', '12': 'Sandra Bullock', '13': 'Scarlett Johansson', '14': 'Tom Cruise', '15': 'Tom Hanks', '16': 'Will Smith'}\n"
     ]
    }
   ],
   "source": [
    "loaded_model = tf.keras.models.load_model(path_to_saved_model)\n",
    "with open(loaded_model.asset.asset_path.numpy(), 'r') as f:\n",
    "    loaded_idx_to_celebrity_name= json.load(f)\n",
    "\n",
    "print(loaded_idx_to_celebrity_name)"
   ]
  },
  {
   "cell_type": "markdown",
   "metadata": {},
   "source": [
    "## Deploy to GCP"
   ]
  },
  {
   "cell_type": "code",
   "execution_count": 28,
   "metadata": {},
   "outputs": [
    {
     "name": "stderr",
     "output_type": "stream",
     "text": [
      "WARNING:google.auth._default:No project ID could be determined. Consider running `gcloud config set project` or setting the GOOGLE_CLOUD_PROJECT environment variable\n"
     ]
    },
    {
     "name": "stdout",
     "output_type": "stream",
     "text": [
      "Uploaded ml_project_4_face_detection/backend/model to gs:/aiedge-celebrity-detection-models/model in aiedge-celebrity-detection-models\n"
     ]
    }
   ],
   "source": [
    "from google.cloud import storage\n",
    "\n",
    "def upload_dir_to_gcs(local_path, bucket_name, gcs_path):\n",
    "  \"\"\"Upload local directory to GCS\"\"\"\n",
    "  if isinstance(local_path, str):\n",
    "    local_path = pathlib.Path(local_path)\n",
    "  if isinstance(gcs_path, str):\n",
    "    gcs_path = pathlib.Path(gcs_path)\n",
    "\n",
    "  uploaded_objects = []\n",
    "\n",
    "  client = storage.Client(project=PROJECT_ID)\n",
    "  bucket = client.bucket(bucket_name)\n",
    "\n",
    "  for local_file in local_path.glob(\"**/*\"):\n",
    "    remote_path = \"/\".join(local_file.parts[2:])\n",
    "    if not local_file.is_dir():\n",
    "      blob = bucket.blob(remote_path)\n",
    "      blob.upload_from_filename(local_file)\n",
    "      uploaded_objects.append(local_file)\n",
    "  \n",
    "  logger.info(f\"Uploaded {local_path} to {gcs_path} in {bucket_name}\")\n",
    "  logger.info(f\"Uploaded {len(uploaded_objects)} objects\")\n",
    "\n",
    "bucket_name = \"aiedge-celebrity-detection-models\"\n",
    "model_cloud_storage_uri = f\"gs://{bucket_name}/model\"\n",
    "\n",
    "upload_dir_to_gcs(\n",
    "    local_path=path_to_saved_model,\n",
    "    bucket_name=bucket_name,\n",
    "    gcs_path=model_cloud_storage_uri\n",
    ")"
   ]
  },
  {
   "cell_type": "code",
   "execution_count": 31,
   "metadata": {},
   "outputs": [
    {
     "name": "stdout",
     "output_type": "stream",
     "text": [
      "Creating Model\n"
     ]
    },
    {
     "name": "stderr",
     "output_type": "stream",
     "text": [
      "INFO:google.cloud.aiplatform.models:Creating Model\n"
     ]
    },
    {
     "name": "stdout",
     "output_type": "stream",
     "text": [
      "Create Model backing LRO: projects/820240006900/locations/us-east4/models/9128075165052174336/operations/8690880754546114560\n"
     ]
    },
    {
     "name": "stderr",
     "output_type": "stream",
     "text": [
      "INFO:google.cloud.aiplatform.models:Create Model backing LRO: projects/820240006900/locations/us-east4/models/9128075165052174336/operations/8690880754546114560\n"
     ]
    },
    {
     "name": "stdout",
     "output_type": "stream",
     "text": [
      "Model created. Resource name: projects/820240006900/locations/us-east4/models/9128075165052174336@1\n"
     ]
    },
    {
     "name": "stderr",
     "output_type": "stream",
     "text": [
      "INFO:google.cloud.aiplatform.models:Model created. Resource name: projects/820240006900/locations/us-east4/models/9128075165052174336@1\n"
     ]
    },
    {
     "name": "stdout",
     "output_type": "stream",
     "text": [
      "To use this Model in another session:\n"
     ]
    },
    {
     "name": "stderr",
     "output_type": "stream",
     "text": [
      "INFO:google.cloud.aiplatform.models:To use this Model in another session:\n"
     ]
    },
    {
     "name": "stdout",
     "output_type": "stream",
     "text": [
      "model = aiplatform.Model('projects/820240006900/locations/us-east4/models/9128075165052174336@1')\n"
     ]
    },
    {
     "name": "stderr",
     "output_type": "stream",
     "text": [
      "INFO:google.cloud.aiplatform.models:model = aiplatform.Model('projects/820240006900/locations/us-east4/models/9128075165052174336@1')\n"
     ]
    },
    {
     "data": {
      "text/plain": [
       "<google.cloud.aiplatform.models.Model object at 0x31be12dd0> \n",
       "resource name: projects/820240006900/locations/us-east4/models/9128075165052174336"
      ]
     },
     "execution_count": 31,
     "metadata": {},
     "output_type": "execute_result"
    }
   ],
   "source": [
    "aiplatform.init(project=PROJECT_ID, location=\"us-east4\")\n",
    "model = aiplatform.Model.upload(\n",
    "    display_name=\"celebrity-recognition\",\n",
    "    artifact_uri=model_cloud_storage_uri,\n",
    "    serving_container_image_uri=\"us-docker.pkg.dev/vertex-ai/prediction/tf2-cpu.2-12:latest\",\n",
    ")\n",
    "model"
   ]
  },
  {
   "cell_type": "code",
   "execution_count": 32,
   "metadata": {},
   "outputs": [
    {
     "name": "stdout",
     "output_type": "stream",
     "text": [
      "Creating Endpoint\n"
     ]
    },
    {
     "name": "stderr",
     "output_type": "stream",
     "text": [
      "INFO:google.cloud.aiplatform.models:Creating Endpoint\n"
     ]
    },
    {
     "name": "stdout",
     "output_type": "stream",
     "text": [
      "Create Endpoint backing LRO: projects/820240006900/locations/us-east4/endpoints/5089357849998393344/operations/7173167680122257408\n"
     ]
    },
    {
     "name": "stderr",
     "output_type": "stream",
     "text": [
      "INFO:google.cloud.aiplatform.models:Create Endpoint backing LRO: projects/820240006900/locations/us-east4/endpoints/5089357849998393344/operations/7173167680122257408\n"
     ]
    },
    {
     "name": "stdout",
     "output_type": "stream",
     "text": [
      "Endpoint created. Resource name: projects/820240006900/locations/us-east4/endpoints/5089357849998393344\n"
     ]
    },
    {
     "name": "stderr",
     "output_type": "stream",
     "text": [
      "INFO:google.cloud.aiplatform.models:Endpoint created. Resource name: projects/820240006900/locations/us-east4/endpoints/5089357849998393344\n"
     ]
    },
    {
     "name": "stdout",
     "output_type": "stream",
     "text": [
      "To use this Endpoint in another session:\n"
     ]
    },
    {
     "name": "stderr",
     "output_type": "stream",
     "text": [
      "INFO:google.cloud.aiplatform.models:To use this Endpoint in another session:\n"
     ]
    },
    {
     "name": "stdout",
     "output_type": "stream",
     "text": [
      "endpoint = aiplatform.Endpoint('projects/820240006900/locations/us-east4/endpoints/5089357849998393344')\n"
     ]
    },
    {
     "name": "stderr",
     "output_type": "stream",
     "text": [
      "INFO:google.cloud.aiplatform.models:endpoint = aiplatform.Endpoint('projects/820240006900/locations/us-east4/endpoints/5089357849998393344')\n"
     ]
    },
    {
     "name": "stdout",
     "output_type": "stream",
     "text": [
      "Deploying model to Endpoint : projects/820240006900/locations/us-east4/endpoints/5089357849998393344\n"
     ]
    },
    {
     "name": "stderr",
     "output_type": "stream",
     "text": [
      "INFO:google.cloud.aiplatform.models:Deploying model to Endpoint : projects/820240006900/locations/us-east4/endpoints/5089357849998393344\n"
     ]
    },
    {
     "name": "stdout",
     "output_type": "stream",
     "text": [
      "Deploy Endpoint model backing LRO: projects/820240006900/locations/us-east4/endpoints/5089357849998393344/operations/9082693922127347712\n"
     ]
    },
    {
     "name": "stderr",
     "output_type": "stream",
     "text": [
      "INFO:google.cloud.aiplatform.models:Deploy Endpoint model backing LRO: projects/820240006900/locations/us-east4/endpoints/5089357849998393344/operations/9082693922127347712\n"
     ]
    },
    {
     "name": "stdout",
     "output_type": "stream",
     "text": [
      "Endpoint model deployed. Resource name: projects/820240006900/locations/us-east4/endpoints/5089357849998393344\n"
     ]
    },
    {
     "name": "stderr",
     "output_type": "stream",
     "text": [
      "INFO:google.cloud.aiplatform.models:Endpoint model deployed. Resource name: projects/820240006900/locations/us-east4/endpoints/5089357849998393344\n"
     ]
    }
   ],
   "source": [
    "endpoint = model.deploy(\n",
    "    deployed_model_display_name=\"celebrity_recognition\",\n",
    "    machine_type=\"n1-standard-4\",\n",
    "    accelerator_type=None,\n",
    "    accelerator_count=0\n",
    ")"
   ]
  },
  {
   "cell_type": "code",
   "execution_count": null,
   "metadata": {},
   "outputs": [],
   "source": []
  }
 ],
 "metadata": {
  "kernelspec": {
   "display_name": "backend-7DY3twuc-py3.11",
   "language": "python",
   "name": "python3"
  },
  "language_info": {
   "codemirror_mode": {
    "name": "ipython",
    "version": 3
   },
   "file_extension": ".py",
   "mimetype": "text/x-python",
   "name": "python",
   "nbconvert_exporter": "python",
   "pygments_lexer": "ipython3",
   "version": "3.11.4"
  },
  "orig_nbformat": 4
 },
 "nbformat": 4,
 "nbformat_minor": 2
}
