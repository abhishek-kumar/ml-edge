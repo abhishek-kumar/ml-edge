{
 "cells": [
  {
   "cell_type": "markdown",
   "metadata": {},
   "source": [
    "# Purpose\n",
    "\n",
    "The purpose of this notebook is to talk a little bit about the various encodings, moving data around and interacting with APIs. "
   ]
  },
  {
   "cell_type": "markdown",
   "metadata": {},
   "source": [
    "When you're dealing with the Base64 encoding, it always takes as input **binary data**, and it outputs a string as text with only ASCII characters.\n",
    "\n",
    "Base64 is a way of taking binary data, and turning it into text so that it can be easily transmitted via email and HTML.\n",
    "\n",
    "We **encode** data into efficient representations for storage and transmission of data. \n",
    "Popular encodings are UTF-8 and ASCII.\n",
    "\n",
    "Python's `base64` module works on bytes-like objects. So when you're encoding data, you need to convert it to `bytes` **first** if it is not that data type already. Since Python strings are not `bytes` data types, you always have to run something like this:"
   ]
  },
  {
   "cell_type": "code",
   "execution_count": 2,
   "metadata": {},
   "outputs": [
    {
     "name": "stdout",
     "output_type": "stream",
     "text": [
      "<class 'str'>\n",
      "<class 'bytes'>\n",
      "b'hello world'\n"
     ]
    }
   ],
   "source": [
    "import base64\n",
    "\n",
    "example_string: str = \"hello world\"\n",
    "print(type(example_string))\n",
    "\n",
    "# first we convert that string to a bytes-like object\n",
    "example_string_as_bytes: bytes = example_string.encode(\"utf-8\")\n",
    "print(type(example_string_as_bytes))\n",
    "# and now we have a binary representation of the string:\n",
    "print(example_string_as_bytes)"
   ]
  },
  {
   "cell_type": "markdown",
   "metadata": {},
   "source": [
    "By default, `encode()` doesn't take any parameters, since it assumes you're calling:\n",
    "\n",
    "```python\n",
    "my_string.encode(encoding=\"UTF-8\", errors=\"strict\")\n",
    "```\n",
    "\n",
    "The little `b` before the string indicates that the string is a bytes literal. If you have this little `b` in front of your string, it's actually **not** a string - it's a `bytes` object. `bytes` objects are sequences of bytes of integers in the range 0-255 (because you can only represent numbers between 0 and 256 when you have 8 bits, which is 1 byte).\n",
    "\n",
    "In Python, normal strings are made up of a sequence of Unicode characters. When you need to work with binary data (like images or files), you would use `bytes` objects instead of strings.\n",
    "\n",
    "To convert regular strings into bytes, you use `encode()`, and to convert bytes into strings, you use `decode()`.\n",
    "\n",
    "When you're working with text, you're usually working with strings (which are sequences of Unicode characters), but when you're reading data from a file or over the network, you're working with bytes.\n",
    "\n",
    "Then, once you have a `bytes` object, you can base64 encode it:"
   ]
  },
  {
   "cell_type": "code",
   "execution_count": 3,
   "metadata": {},
   "outputs": [
    {
     "name": "stdout",
     "output_type": "stream",
     "text": [
      "b'aGVsbG8gd29ybGQ='\n"
     ]
    }
   ],
   "source": [
    "base64_encoded = base64.b64encode(example_string_as_bytes)\n",
    "print(base64_encoded)"
   ]
  },
  {
   "cell_type": "markdown",
   "metadata": {},
   "source": [
    "Another, less common scenario is that you start with a `bytes`-like object. If you have this, then you can base64 encode it (note - not UTF-8 encode it) directly:"
   ]
  },
  {
   "cell_type": "code",
   "execution_count": 8,
   "metadata": {},
   "outputs": [
    {
     "name": "stdout",
     "output_type": "stream",
     "text": [
      "b'AAEC'\n"
     ]
    }
   ],
   "source": [
    "bytes_string = b\"\\x00\\x01\\x02\"\n",
    "\n",
    "base64_encoded = base64.b64encode(bytes_string)\n",
    "print(base64_encoded)"
   ]
  },
  {
   "cell_type": "markdown",
   "metadata": {},
   "source": [
    "## So what's the deal with io.BytesIO?\n",
    "\n",
    "The `io.BytesIO` class let's you have a binary stream of in-memory bytes. It's not the same thing as a bytes object, but it's designed to stream those bytes objects. \n",
    "\n",
    "It behaves like a file object - so you can read from it, write to it and move through it.\n",
    "\n",
    "However, instead of working with a file on disk, an `io.BytesIO` object works with data that's residing in memory.\n",
    "\n",
    "`io.BytesIO` is a class that lets you create a file-like object that works with `bytes` objects.\n",
    "\n",
    "So an `io.BytesIO` object is an object you can push `bytes` data to, and get `bytes` data from.\n",
    "\n",
    "A basic usage of it looks like this:"
   ]
  },
  {
   "cell_type": "code",
   "execution_count": 14,
   "metadata": {},
   "outputs": [
    {
     "name": "stdout",
     "output_type": "stream",
     "text": [
      "b'Hello, world!'\n"
     ]
    }
   ],
   "source": [
    "import io\n",
    "\n",
    "bytes_stream = io.BytesIO()\n",
    "bytes_stream.write(b\"Hello, world!\")\n",
    "\n",
    "print(bytes_stream.getvalue())"
   ]
  },
  {
   "cell_type": "code",
   "execution_count": null,
   "metadata": {},
   "outputs": [],
   "source": []
  }
 ],
 "metadata": {
  "kernelspec": {
   "display_name": "backend-7DY3twuc-py3.11",
   "language": "python",
   "name": "python3"
  },
  "language_info": {
   "codemirror_mode": {
    "name": "ipython",
    "version": 3
   },
   "file_extension": ".py",
   "mimetype": "text/x-python",
   "name": "python",
   "nbconvert_exporter": "python",
   "pygments_lexer": "ipython3",
   "version": "3.11.4"
  },
  "orig_nbformat": 4
 },
 "nbformat": 4,
 "nbformat_minor": 2
}
